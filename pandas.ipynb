{
 "cells": [
  {
   "cell_type": "code",
   "execution_count": 1,
   "id": "4728a581-2c9f-4114-a90b-3c9d7fac5021",
   "metadata": {},
   "outputs": [],
   "source": [
    "import pandas as pd"
   ]
  },
  {
   "cell_type": "markdown",
   "id": "d60bf3da-ece9-48c3-8871-86e0c51ad3b9",
   "metadata": {},
   "source": [
    "# PANDA DATA"
   ]
  },
  {
   "cell_type": "markdown",
   "id": "7fee7d71-47b2-4f27-a3d3-333fa3e939c8",
   "metadata": {},
   "source": [
    "### Create Data"
   ]
  },
  {
   "cell_type": "code",
   "execution_count": 2,
   "id": "f376ce65-e11d-4ce8-b03e-af78b2526611",
   "metadata": {},
   "outputs": [],
   "source": [
    "data = {\n",
    "    'Name':['Pandy','Sandy','Randy','Mandy','Candy','Landy'],\n",
    "    'Age':[6,7,4,5,4,2],\n",
    "    'Bamboo Stick': [10,15,20,25,30,35]\n",
    "}"
   ]
  },
  {
   "cell_type": "code",
   "execution_count": 3,
   "id": "737c9a88-726b-490e-8f97-0e21e0fbc061",
   "metadata": {},
   "outputs": [],
   "source": [
    "df=pd.DataFrame(data)"
   ]
  },
  {
   "cell_type": "code",
   "execution_count": 4,
   "id": "27e3c3e7-2ecb-4def-8610-5f5f888f8a74",
   "metadata": {},
   "outputs": [
    {
     "data": {
      "text/html": [
       "<div>\n",
       "<style scoped>\n",
       "    .dataframe tbody tr th:only-of-type {\n",
       "        vertical-align: middle;\n",
       "    }\n",
       "\n",
       "    .dataframe tbody tr th {\n",
       "        vertical-align: top;\n",
       "    }\n",
       "\n",
       "    .dataframe thead th {\n",
       "        text-align: right;\n",
       "    }\n",
       "</style>\n",
       "<table border=\"1\" class=\"dataframe\">\n",
       "  <thead>\n",
       "    <tr style=\"text-align: right;\">\n",
       "      <th></th>\n",
       "      <th>Name</th>\n",
       "      <th>Age</th>\n",
       "      <th>Bamboo Stick</th>\n",
       "    </tr>\n",
       "  </thead>\n",
       "  <tbody>\n",
       "    <tr>\n",
       "      <th>0</th>\n",
       "      <td>Pandy</td>\n",
       "      <td>6</td>\n",
       "      <td>10</td>\n",
       "    </tr>\n",
       "    <tr>\n",
       "      <th>1</th>\n",
       "      <td>Sandy</td>\n",
       "      <td>7</td>\n",
       "      <td>15</td>\n",
       "    </tr>\n",
       "    <tr>\n",
       "      <th>2</th>\n",
       "      <td>Randy</td>\n",
       "      <td>4</td>\n",
       "      <td>20</td>\n",
       "    </tr>\n",
       "    <tr>\n",
       "      <th>3</th>\n",
       "      <td>Mandy</td>\n",
       "      <td>5</td>\n",
       "      <td>25</td>\n",
       "    </tr>\n",
       "    <tr>\n",
       "      <th>4</th>\n",
       "      <td>Candy</td>\n",
       "      <td>4</td>\n",
       "      <td>30</td>\n",
       "    </tr>\n",
       "    <tr>\n",
       "      <th>5</th>\n",
       "      <td>Landy</td>\n",
       "      <td>2</td>\n",
       "      <td>35</td>\n",
       "    </tr>\n",
       "  </tbody>\n",
       "</table>\n",
       "</div>"
      ],
      "text/plain": [
       "    Name  Age  Bamboo Stick\n",
       "0  Pandy    6            10\n",
       "1  Sandy    7            15\n",
       "2  Randy    4            20\n",
       "3  Mandy    5            25\n",
       "4  Candy    4            30\n",
       "5  Landy    2            35"
      ]
     },
     "execution_count": 4,
     "metadata": {},
     "output_type": "execute_result"
    }
   ],
   "source": [
    "df"
   ]
  },
  {
   "cell_type": "markdown",
   "id": "f9d5fda0-b647-4f8b-b7be-28ba408919b7",
   "metadata": {},
   "source": [
    "### shape"
   ]
  },
  {
   "cell_type": "code",
   "execution_count": 132,
   "id": "57c0e190-c8b5-45ab-bda2-be896b8c6527",
   "metadata": {},
   "outputs": [
    {
     "data": {
      "text/plain": [
       "(6, 4)"
      ]
     },
     "execution_count": 132,
     "metadata": {},
     "output_type": "execute_result"
    }
   ],
   "source": [
    "df.shape"
   ]
  },
  {
   "cell_type": "markdown",
   "id": "c2b97111-c4bb-448c-8c5d-117ed4bce049",
   "metadata": {},
   "source": [
    "### info "
   ]
  },
  {
   "cell_type": "code",
   "execution_count": 133,
   "id": "40ad3eee-075b-4b6c-9e47-5401f8ea515f",
   "metadata": {},
   "outputs": [
    {
     "data": {
      "text/plain": [
       "<bound method DataFrame.info of     Name  Age  Bamboo Stick      Place\n",
       "a  Pandy    6            10  Greenland\n",
       "b  Sandy    7            15    Siberia\n",
       "c  Randy    4            20  Antartica\n",
       "d  Mandy    5            25  Greenland\n",
       "e  Candy    4            30    Siberia\n",
       "f  Landy    2            35  Antartica>"
      ]
     },
     "execution_count": 133,
     "metadata": {},
     "output_type": "execute_result"
    }
   ],
   "source": [
    "df.info"
   ]
  },
  {
   "cell_type": "markdown",
   "id": "433c9262-1bf8-4a20-95ec-3fa84093ef87",
   "metadata": {},
   "source": [
    "### Head (first five rows)"
   ]
  },
  {
   "cell_type": "code",
   "execution_count": 5,
   "id": "8fd4a203-556f-4097-9152-8f0803bcd382",
   "metadata": {},
   "outputs": [
    {
     "data": {
      "text/html": [
       "<div>\n",
       "<style scoped>\n",
       "    .dataframe tbody tr th:only-of-type {\n",
       "        vertical-align: middle;\n",
       "    }\n",
       "\n",
       "    .dataframe tbody tr th {\n",
       "        vertical-align: top;\n",
       "    }\n",
       "\n",
       "    .dataframe thead th {\n",
       "        text-align: right;\n",
       "    }\n",
       "</style>\n",
       "<table border=\"1\" class=\"dataframe\">\n",
       "  <thead>\n",
       "    <tr style=\"text-align: right;\">\n",
       "      <th></th>\n",
       "      <th>Name</th>\n",
       "      <th>Age</th>\n",
       "      <th>Bamboo Stick</th>\n",
       "    </tr>\n",
       "  </thead>\n",
       "  <tbody>\n",
       "    <tr>\n",
       "      <th>0</th>\n",
       "      <td>Pandy</td>\n",
       "      <td>6</td>\n",
       "      <td>10</td>\n",
       "    </tr>\n",
       "    <tr>\n",
       "      <th>1</th>\n",
       "      <td>Sandy</td>\n",
       "      <td>7</td>\n",
       "      <td>15</td>\n",
       "    </tr>\n",
       "    <tr>\n",
       "      <th>2</th>\n",
       "      <td>Randy</td>\n",
       "      <td>4</td>\n",
       "      <td>20</td>\n",
       "    </tr>\n",
       "    <tr>\n",
       "      <th>3</th>\n",
       "      <td>Mandy</td>\n",
       "      <td>5</td>\n",
       "      <td>25</td>\n",
       "    </tr>\n",
       "    <tr>\n",
       "      <th>4</th>\n",
       "      <td>Candy</td>\n",
       "      <td>4</td>\n",
       "      <td>30</td>\n",
       "    </tr>\n",
       "  </tbody>\n",
       "</table>\n",
       "</div>"
      ],
      "text/plain": [
       "    Name  Age  Bamboo Stick\n",
       "0  Pandy    6            10\n",
       "1  Sandy    7            15\n",
       "2  Randy    4            20\n",
       "3  Mandy    5            25\n",
       "4  Candy    4            30"
      ]
     },
     "execution_count": 5,
     "metadata": {},
     "output_type": "execute_result"
    }
   ],
   "source": [
    "df.head()\n"
   ]
  },
  {
   "cell_type": "code",
   "execution_count": 6,
   "id": "924f6d97-f4de-472e-a80b-f284c53ac0c3",
   "metadata": {},
   "outputs": [
    {
     "data": {
      "text/html": [
       "<div>\n",
       "<style scoped>\n",
       "    .dataframe tbody tr th:only-of-type {\n",
       "        vertical-align: middle;\n",
       "    }\n",
       "\n",
       "    .dataframe tbody tr th {\n",
       "        vertical-align: top;\n",
       "    }\n",
       "\n",
       "    .dataframe thead th {\n",
       "        text-align: right;\n",
       "    }\n",
       "</style>\n",
       "<table border=\"1\" class=\"dataframe\">\n",
       "  <thead>\n",
       "    <tr style=\"text-align: right;\">\n",
       "      <th></th>\n",
       "      <th>Name</th>\n",
       "      <th>Age</th>\n",
       "      <th>Bamboo Stick</th>\n",
       "    </tr>\n",
       "  </thead>\n",
       "  <tbody>\n",
       "    <tr>\n",
       "      <th>0</th>\n",
       "      <td>Pandy</td>\n",
       "      <td>6</td>\n",
       "      <td>10</td>\n",
       "    </tr>\n",
       "    <tr>\n",
       "      <th>1</th>\n",
       "      <td>Sandy</td>\n",
       "      <td>7</td>\n",
       "      <td>15</td>\n",
       "    </tr>\n",
       "  </tbody>\n",
       "</table>\n",
       "</div>"
      ],
      "text/plain": [
       "    Name  Age  Bamboo Stick\n",
       "0  Pandy    6            10\n",
       "1  Sandy    7            15"
      ]
     },
     "execution_count": 6,
     "metadata": {},
     "output_type": "execute_result"
    }
   ],
   "source": [
    "df.head(2)\n"
   ]
  },
  {
   "cell_type": "markdown",
   "id": "1388664a-870d-4326-a33d-a9acce2862db",
   "metadata": {},
   "source": [
    "### Tail (last five rows)"
   ]
  },
  {
   "cell_type": "code",
   "execution_count": 7,
   "id": "e2fc4be4-df36-4853-a3c6-4bdc9edf1714",
   "metadata": {},
   "outputs": [
    {
     "data": {
      "text/html": [
       "<div>\n",
       "<style scoped>\n",
       "    .dataframe tbody tr th:only-of-type {\n",
       "        vertical-align: middle;\n",
       "    }\n",
       "\n",
       "    .dataframe tbody tr th {\n",
       "        vertical-align: top;\n",
       "    }\n",
       "\n",
       "    .dataframe thead th {\n",
       "        text-align: right;\n",
       "    }\n",
       "</style>\n",
       "<table border=\"1\" class=\"dataframe\">\n",
       "  <thead>\n",
       "    <tr style=\"text-align: right;\">\n",
       "      <th></th>\n",
       "      <th>Name</th>\n",
       "      <th>Age</th>\n",
       "      <th>Bamboo Stick</th>\n",
       "    </tr>\n",
       "  </thead>\n",
       "  <tbody>\n",
       "    <tr>\n",
       "      <th>1</th>\n",
       "      <td>Sandy</td>\n",
       "      <td>7</td>\n",
       "      <td>15</td>\n",
       "    </tr>\n",
       "    <tr>\n",
       "      <th>2</th>\n",
       "      <td>Randy</td>\n",
       "      <td>4</td>\n",
       "      <td>20</td>\n",
       "    </tr>\n",
       "    <tr>\n",
       "      <th>3</th>\n",
       "      <td>Mandy</td>\n",
       "      <td>5</td>\n",
       "      <td>25</td>\n",
       "    </tr>\n",
       "    <tr>\n",
       "      <th>4</th>\n",
       "      <td>Candy</td>\n",
       "      <td>4</td>\n",
       "      <td>30</td>\n",
       "    </tr>\n",
       "    <tr>\n",
       "      <th>5</th>\n",
       "      <td>Landy</td>\n",
       "      <td>2</td>\n",
       "      <td>35</td>\n",
       "    </tr>\n",
       "  </tbody>\n",
       "</table>\n",
       "</div>"
      ],
      "text/plain": [
       "    Name  Age  Bamboo Stick\n",
       "1  Sandy    7            15\n",
       "2  Randy    4            20\n",
       "3  Mandy    5            25\n",
       "4  Candy    4            30\n",
       "5  Landy    2            35"
      ]
     },
     "execution_count": 7,
     "metadata": {},
     "output_type": "execute_result"
    }
   ],
   "source": [
    "df.tail()"
   ]
  },
  {
   "cell_type": "code",
   "execution_count": 8,
   "id": "1eb2f0f0-eaa8-49e6-b1bc-b4c2603309a2",
   "metadata": {},
   "outputs": [
    {
     "data": {
      "text/html": [
       "<div>\n",
       "<style scoped>\n",
       "    .dataframe tbody tr th:only-of-type {\n",
       "        vertical-align: middle;\n",
       "    }\n",
       "\n",
       "    .dataframe tbody tr th {\n",
       "        vertical-align: top;\n",
       "    }\n",
       "\n",
       "    .dataframe thead th {\n",
       "        text-align: right;\n",
       "    }\n",
       "</style>\n",
       "<table border=\"1\" class=\"dataframe\">\n",
       "  <thead>\n",
       "    <tr style=\"text-align: right;\">\n",
       "      <th></th>\n",
       "      <th>Name</th>\n",
       "      <th>Age</th>\n",
       "      <th>Bamboo Stick</th>\n",
       "    </tr>\n",
       "  </thead>\n",
       "  <tbody>\n",
       "    <tr>\n",
       "      <th>3</th>\n",
       "      <td>Mandy</td>\n",
       "      <td>5</td>\n",
       "      <td>25</td>\n",
       "    </tr>\n",
       "    <tr>\n",
       "      <th>4</th>\n",
       "      <td>Candy</td>\n",
       "      <td>4</td>\n",
       "      <td>30</td>\n",
       "    </tr>\n",
       "    <tr>\n",
       "      <th>5</th>\n",
       "      <td>Landy</td>\n",
       "      <td>2</td>\n",
       "      <td>35</td>\n",
       "    </tr>\n",
       "  </tbody>\n",
       "</table>\n",
       "</div>"
      ],
      "text/plain": [
       "    Name  Age  Bamboo Stick\n",
       "3  Mandy    5            25\n",
       "4  Candy    4            30\n",
       "5  Landy    2            35"
      ]
     },
     "execution_count": 8,
     "metadata": {},
     "output_type": "execute_result"
    }
   ],
   "source": [
    "df.tail(3)"
   ]
  },
  {
   "cell_type": "markdown",
   "id": "16e49b32-f4b6-44d7-94b2-31a1896ef6d2",
   "metadata": {},
   "source": [
    "### Filtering"
   ]
  },
  {
   "cell_type": "code",
   "execution_count": 9,
   "id": "b0806434-7769-4c3a-8dd6-e759ef13f3ba",
   "metadata": {},
   "outputs": [
    {
     "data": {
      "text/html": [
       "<div>\n",
       "<style scoped>\n",
       "    .dataframe tbody tr th:only-of-type {\n",
       "        vertical-align: middle;\n",
       "    }\n",
       "\n",
       "    .dataframe tbody tr th {\n",
       "        vertical-align: top;\n",
       "    }\n",
       "\n",
       "    .dataframe thead th {\n",
       "        text-align: right;\n",
       "    }\n",
       "</style>\n",
       "<table border=\"1\" class=\"dataframe\">\n",
       "  <thead>\n",
       "    <tr style=\"text-align: right;\">\n",
       "      <th></th>\n",
       "      <th>Name</th>\n",
       "      <th>Age</th>\n",
       "      <th>Bamboo Stick</th>\n",
       "    </tr>\n",
       "  </thead>\n",
       "  <tbody>\n",
       "    <tr>\n",
       "      <th>2</th>\n",
       "      <td>Randy</td>\n",
       "      <td>4</td>\n",
       "      <td>20</td>\n",
       "    </tr>\n",
       "    <tr>\n",
       "      <th>4</th>\n",
       "      <td>Candy</td>\n",
       "      <td>4</td>\n",
       "      <td>30</td>\n",
       "    </tr>\n",
       "    <tr>\n",
       "      <th>5</th>\n",
       "      <td>Landy</td>\n",
       "      <td>2</td>\n",
       "      <td>35</td>\n",
       "    </tr>\n",
       "  </tbody>\n",
       "</table>\n",
       "</div>"
      ],
      "text/plain": [
       "    Name  Age  Bamboo Stick\n",
       "2  Randy    4            20\n",
       "4  Candy    4            30\n",
       "5  Landy    2            35"
      ]
     },
     "execution_count": 9,
     "metadata": {},
     "output_type": "execute_result"
    }
   ],
   "source": [
    "df[df['Age']<5] "
   ]
  },
  {
   "cell_type": "raw",
   "id": "43626c3c-763e-42d8-aee7-95b324bfd7a6",
   "metadata": {},
   "source": [
    "df[df['Age']<5] \n",
    "df, data frame name used for filtering\n",
    "[df['Age']<5] is the logic \n"
   ]
  },
  {
   "cell_type": "markdown",
   "id": "bcae8976-a054-44de-9d9e-b2c2643e7ec7",
   "metadata": {},
   "source": [
    "#### Multiple filtering"
   ]
  },
  {
   "cell_type": "code",
   "execution_count": 32,
   "id": "19212ae6-c098-42d6-93de-d450b0185df8",
   "metadata": {},
   "outputs": [
    {
     "data": {
      "text/html": [
       "<div>\n",
       "<style scoped>\n",
       "    .dataframe tbody tr th:only-of-type {\n",
       "        vertical-align: middle;\n",
       "    }\n",
       "\n",
       "    .dataframe tbody tr th {\n",
       "        vertical-align: top;\n",
       "    }\n",
       "\n",
       "    .dataframe thead th {\n",
       "        text-align: right;\n",
       "    }\n",
       "</style>\n",
       "<table border=\"1\" class=\"dataframe\">\n",
       "  <thead>\n",
       "    <tr style=\"text-align: right;\">\n",
       "      <th></th>\n",
       "      <th>Bamboo Stick</th>\n",
       "      <th>Age</th>\n",
       "    </tr>\n",
       "  </thead>\n",
       "  <tbody>\n",
       "    <tr>\n",
       "      <th>0</th>\n",
       "      <td>10</td>\n",
       "      <td>6</td>\n",
       "    </tr>\n",
       "    <tr>\n",
       "      <th>1</th>\n",
       "      <td>15</td>\n",
       "      <td>7</td>\n",
       "    </tr>\n",
       "    <tr>\n",
       "      <th>2</th>\n",
       "      <td>20</td>\n",
       "      <td>4</td>\n",
       "    </tr>\n",
       "    <tr>\n",
       "      <th>3</th>\n",
       "      <td>25</td>\n",
       "      <td>5</td>\n",
       "    </tr>\n",
       "    <tr>\n",
       "      <th>4</th>\n",
       "      <td>30</td>\n",
       "      <td>4</td>\n",
       "    </tr>\n",
       "    <tr>\n",
       "      <th>5</th>\n",
       "      <td>35</td>\n",
       "      <td>2</td>\n",
       "    </tr>\n",
       "  </tbody>\n",
       "</table>\n",
       "</div>"
      ],
      "text/plain": [
       "   Bamboo Stick  Age\n",
       "0            10    6\n",
       "1            15    7\n",
       "2            20    4\n",
       "3            25    5\n",
       "4            30    4\n",
       "5            35    2"
      ]
     },
     "execution_count": 32,
     "metadata": {},
     "output_type": "execute_result"
    }
   ],
   "source": [
    "df[['Bamboo Stick','Age']]"
   ]
  },
  {
   "cell_type": "code",
   "execution_count": 34,
   "id": "288340dd-04d7-4875-b4a6-a05195f1f93a",
   "metadata": {},
   "outputs": [
    {
     "data": {
      "text/html": [
       "<div>\n",
       "<style scoped>\n",
       "    .dataframe tbody tr th:only-of-type {\n",
       "        vertical-align: middle;\n",
       "    }\n",
       "\n",
       "    .dataframe tbody tr th {\n",
       "        vertical-align: top;\n",
       "    }\n",
       "\n",
       "    .dataframe thead th {\n",
       "        text-align: right;\n",
       "    }\n",
       "</style>\n",
       "<table border=\"1\" class=\"dataframe\">\n",
       "  <thead>\n",
       "    <tr style=\"text-align: right;\">\n",
       "      <th></th>\n",
       "      <th>Name</th>\n",
       "      <th>Age</th>\n",
       "      <th>Bamboo Stick</th>\n",
       "    </tr>\n",
       "  </thead>\n",
       "  <tbody>\n",
       "    <tr>\n",
       "      <th>1</th>\n",
       "      <td>Sandy</td>\n",
       "      <td>7</td>\n",
       "      <td>15</td>\n",
       "    </tr>\n",
       "    <tr>\n",
       "      <th>3</th>\n",
       "      <td>Mandy</td>\n",
       "      <td>5</td>\n",
       "      <td>25</td>\n",
       "    </tr>\n",
       "  </tbody>\n",
       "</table>\n",
       "</div>"
      ],
      "text/plain": [
       "    Name  Age  Bamboo Stick\n",
       "1  Sandy    7            15\n",
       "3  Mandy    5            25"
      ]
     },
     "execution_count": 34,
     "metadata": {},
     "output_type": "execute_result"
    }
   ],
   "source": [
    "df[ (df['Age']>4) & (df['Bamboo Stick']>10) ]"
   ]
  },
  {
   "cell_type": "markdown",
   "id": "ab61a973-a9fa-4f38-b1cc-ec6d87706c68",
   "metadata": {},
   "source": [
    "### Add Column"
   ]
  },
  {
   "cell_type": "code",
   "execution_count": 61,
   "id": "0e673f67-f73b-4c94-bcf1-2874f7423c92",
   "metadata": {},
   "outputs": [],
   "source": [
    "df['Place']=['Greenland', 'Siberia', 'Antartica','Greenland', 'Siberia', 'Antartica']"
   ]
  },
  {
   "cell_type": "code",
   "execution_count": 62,
   "id": "a63ffdaa-db5c-4b06-9690-35fe80020e83",
   "metadata": {},
   "outputs": [
    {
     "data": {
      "text/html": [
       "<div>\n",
       "<style scoped>\n",
       "    .dataframe tbody tr th:only-of-type {\n",
       "        vertical-align: middle;\n",
       "    }\n",
       "\n",
       "    .dataframe tbody tr th {\n",
       "        vertical-align: top;\n",
       "    }\n",
       "\n",
       "    .dataframe thead th {\n",
       "        text-align: right;\n",
       "    }\n",
       "</style>\n",
       "<table border=\"1\" class=\"dataframe\">\n",
       "  <thead>\n",
       "    <tr style=\"text-align: right;\">\n",
       "      <th></th>\n",
       "      <th>Name</th>\n",
       "      <th>Age</th>\n",
       "      <th>Bamboo Stick</th>\n",
       "      <th>Place</th>\n",
       "    </tr>\n",
       "  </thead>\n",
       "  <tbody>\n",
       "    <tr>\n",
       "      <th>a</th>\n",
       "      <td>Pandy</td>\n",
       "      <td>6</td>\n",
       "      <td>10</td>\n",
       "      <td>Greenland</td>\n",
       "    </tr>\n",
       "    <tr>\n",
       "      <th>b</th>\n",
       "      <td>Sandy</td>\n",
       "      <td>7</td>\n",
       "      <td>15</td>\n",
       "      <td>Siberia</td>\n",
       "    </tr>\n",
       "    <tr>\n",
       "      <th>c</th>\n",
       "      <td>Randy</td>\n",
       "      <td>4</td>\n",
       "      <td>20</td>\n",
       "      <td>Antartica</td>\n",
       "    </tr>\n",
       "    <tr>\n",
       "      <th>d</th>\n",
       "      <td>Mandy</td>\n",
       "      <td>5</td>\n",
       "      <td>25</td>\n",
       "      <td>Greenland</td>\n",
       "    </tr>\n",
       "    <tr>\n",
       "      <th>e</th>\n",
       "      <td>Candy</td>\n",
       "      <td>4</td>\n",
       "      <td>30</td>\n",
       "      <td>Siberia</td>\n",
       "    </tr>\n",
       "    <tr>\n",
       "      <th>f</th>\n",
       "      <td>Landy</td>\n",
       "      <td>2</td>\n",
       "      <td>35</td>\n",
       "      <td>Antartica</td>\n",
       "    </tr>\n",
       "  </tbody>\n",
       "</table>\n",
       "</div>"
      ],
      "text/plain": [
       "    Name  Age  Bamboo Stick      Place\n",
       "a  Pandy    6            10  Greenland\n",
       "b  Sandy    7            15    Siberia\n",
       "c  Randy    4            20  Antartica\n",
       "d  Mandy    5            25  Greenland\n",
       "e  Candy    4            30    Siberia\n",
       "f  Landy    2            35  Antartica"
      ]
     },
     "execution_count": 62,
     "metadata": {},
     "output_type": "execute_result"
    }
   ],
   "source": [
    "df"
   ]
  },
  {
   "cell_type": "markdown",
   "id": "90e2f17d-b0b9-4753-b501-f087bbbf36bb",
   "metadata": {},
   "source": [
    "### Drop Duplicate"
   ]
  },
  {
   "cell_type": "code",
   "execution_count": 128,
   "id": "64de60c4-7dee-4849-a715-47956d4045ed",
   "metadata": {},
   "outputs": [
    {
     "data": {
      "text/html": [
       "<div>\n",
       "<style scoped>\n",
       "    .dataframe tbody tr th:only-of-type {\n",
       "        vertical-align: middle;\n",
       "    }\n",
       "\n",
       "    .dataframe tbody tr th {\n",
       "        vertical-align: top;\n",
       "    }\n",
       "\n",
       "    .dataframe thead th {\n",
       "        text-align: right;\n",
       "    }\n",
       "</style>\n",
       "<table border=\"1\" class=\"dataframe\">\n",
       "  <thead>\n",
       "    <tr style=\"text-align: right;\">\n",
       "      <th></th>\n",
       "      <th>Name</th>\n",
       "      <th>Age</th>\n",
       "      <th>Bamboo Stick</th>\n",
       "      <th>Place</th>\n",
       "    </tr>\n",
       "  </thead>\n",
       "  <tbody>\n",
       "    <tr>\n",
       "      <th>a</th>\n",
       "      <td>Pandy</td>\n",
       "      <td>6</td>\n",
       "      <td>10</td>\n",
       "      <td>Greenland</td>\n",
       "    </tr>\n",
       "    <tr>\n",
       "      <th>b</th>\n",
       "      <td>Sandy</td>\n",
       "      <td>7</td>\n",
       "      <td>15</td>\n",
       "      <td>Siberia</td>\n",
       "    </tr>\n",
       "    <tr>\n",
       "      <th>c</th>\n",
       "      <td>Randy</td>\n",
       "      <td>4</td>\n",
       "      <td>20</td>\n",
       "      <td>Antartica</td>\n",
       "    </tr>\n",
       "  </tbody>\n",
       "</table>\n",
       "</div>"
      ],
      "text/plain": [
       "    Name  Age  Bamboo Stick      Place\n",
       "a  Pandy    6            10  Greenland\n",
       "b  Sandy    7            15    Siberia\n",
       "c  Randy    4            20  Antartica"
      ]
     },
     "execution_count": 128,
     "metadata": {},
     "output_type": "execute_result"
    }
   ],
   "source": [
    "df.drop_duplicates(subset=['Place'])"
   ]
  },
  {
   "cell_type": "code",
   "execution_count": 129,
   "id": "a02c9319-1f10-4ab1-8d7a-bebebc301c31",
   "metadata": {},
   "outputs": [
    {
     "data": {
      "text/html": [
       "<div>\n",
       "<style scoped>\n",
       "    .dataframe tbody tr th:only-of-type {\n",
       "        vertical-align: middle;\n",
       "    }\n",
       "\n",
       "    .dataframe tbody tr th {\n",
       "        vertical-align: top;\n",
       "    }\n",
       "\n",
       "    .dataframe thead th {\n",
       "        text-align: right;\n",
       "    }\n",
       "</style>\n",
       "<table border=\"1\" class=\"dataframe\">\n",
       "  <thead>\n",
       "    <tr style=\"text-align: right;\">\n",
       "      <th></th>\n",
       "      <th>Name</th>\n",
       "      <th>Age</th>\n",
       "      <th>Bamboo Stick</th>\n",
       "      <th>Place</th>\n",
       "    </tr>\n",
       "  </thead>\n",
       "  <tbody>\n",
       "    <tr>\n",
       "      <th>a</th>\n",
       "      <td>Pandy</td>\n",
       "      <td>6</td>\n",
       "      <td>10</td>\n",
       "      <td>Greenland</td>\n",
       "    </tr>\n",
       "    <tr>\n",
       "      <th>b</th>\n",
       "      <td>Sandy</td>\n",
       "      <td>7</td>\n",
       "      <td>15</td>\n",
       "      <td>Siberia</td>\n",
       "    </tr>\n",
       "    <tr>\n",
       "      <th>c</th>\n",
       "      <td>Randy</td>\n",
       "      <td>4</td>\n",
       "      <td>20</td>\n",
       "      <td>Antartica</td>\n",
       "    </tr>\n",
       "  </tbody>\n",
       "</table>\n",
       "</div>"
      ],
      "text/plain": [
       "    Name  Age  Bamboo Stick      Place\n",
       "a  Pandy    6            10  Greenland\n",
       "b  Sandy    7            15    Siberia\n",
       "c  Randy    4            20  Antartica"
      ]
     },
     "execution_count": 129,
     "metadata": {},
     "output_type": "execute_result"
    }
   ],
   "source": [
    "df.drop_duplicates(subset=['Place'],keep='first' )"
   ]
  },
  {
   "cell_type": "code",
   "execution_count": 130,
   "id": "50c55469-ff98-4cb5-b842-534d781c9bb3",
   "metadata": {},
   "outputs": [
    {
     "data": {
      "text/html": [
       "<div>\n",
       "<style scoped>\n",
       "    .dataframe tbody tr th:only-of-type {\n",
       "        vertical-align: middle;\n",
       "    }\n",
       "\n",
       "    .dataframe tbody tr th {\n",
       "        vertical-align: top;\n",
       "    }\n",
       "\n",
       "    .dataframe thead th {\n",
       "        text-align: right;\n",
       "    }\n",
       "</style>\n",
       "<table border=\"1\" class=\"dataframe\">\n",
       "  <thead>\n",
       "    <tr style=\"text-align: right;\">\n",
       "      <th></th>\n",
       "      <th>Name</th>\n",
       "      <th>Age</th>\n",
       "      <th>Bamboo Stick</th>\n",
       "      <th>Place</th>\n",
       "    </tr>\n",
       "  </thead>\n",
       "  <tbody>\n",
       "    <tr>\n",
       "      <th>d</th>\n",
       "      <td>Mandy</td>\n",
       "      <td>5</td>\n",
       "      <td>25</td>\n",
       "      <td>Greenland</td>\n",
       "    </tr>\n",
       "    <tr>\n",
       "      <th>e</th>\n",
       "      <td>Candy</td>\n",
       "      <td>4</td>\n",
       "      <td>30</td>\n",
       "      <td>Siberia</td>\n",
       "    </tr>\n",
       "    <tr>\n",
       "      <th>f</th>\n",
       "      <td>Landy</td>\n",
       "      <td>2</td>\n",
       "      <td>35</td>\n",
       "      <td>Antartica</td>\n",
       "    </tr>\n",
       "  </tbody>\n",
       "</table>\n",
       "</div>"
      ],
      "text/plain": [
       "    Name  Age  Bamboo Stick      Place\n",
       "d  Mandy    5            25  Greenland\n",
       "e  Candy    4            30    Siberia\n",
       "f  Landy    2            35  Antartica"
      ]
     },
     "execution_count": 130,
     "metadata": {},
     "output_type": "execute_result"
    }
   ],
   "source": [
    "df.drop_duplicates(subset=['Place'],keep='last' )"
   ]
  },
  {
   "cell_type": "markdown",
   "id": "51f82958-8c52-40d6-a8ad-ece731042f0f",
   "metadata": {},
   "source": [
    "### Vlaue Counts"
   ]
  },
  {
   "cell_type": "code",
   "execution_count": 136,
   "id": "35480b28-df01-487d-aabd-04805672aa9e",
   "metadata": {},
   "outputs": [
    {
     "data": {
      "text/plain": [
       "Place\n",
       "Greenland    2\n",
       "Siberia      2\n",
       "Antartica    2\n",
       "Name: count, dtype: int64"
      ]
     },
     "execution_count": 136,
     "metadata": {},
     "output_type": "execute_result"
    }
   ],
   "source": [
    "df['Place'].value_counts()"
   ]
  },
  {
   "cell_type": "code",
   "execution_count": 137,
   "id": "ed92325a-6272-4c11-918e-2639c5db400d",
   "metadata": {},
   "outputs": [
    {
     "data": {
      "text/plain": [
       "Age\n",
       "4    2\n",
       "6    1\n",
       "7    1\n",
       "5    1\n",
       "2    1\n",
       "Name: count, dtype: int64"
      ]
     },
     "execution_count": 137,
     "metadata": {},
     "output_type": "execute_result"
    }
   ],
   "source": [
    "df['Age'].value_counts()"
   ]
  },
  {
   "cell_type": "markdown",
   "id": "00f21ee7-0765-4e1a-aed6-6d2753cbe4a4",
   "metadata": {},
   "source": [
    "### Transpose"
   ]
  },
  {
   "cell_type": "code",
   "execution_count": 63,
   "id": "a059a399-7835-450e-954f-b5adc7097260",
   "metadata": {},
   "outputs": [
    {
     "data": {
      "text/html": [
       "<div>\n",
       "<style scoped>\n",
       "    .dataframe tbody tr th:only-of-type {\n",
       "        vertical-align: middle;\n",
       "    }\n",
       "\n",
       "    .dataframe tbody tr th {\n",
       "        vertical-align: top;\n",
       "    }\n",
       "\n",
       "    .dataframe thead th {\n",
       "        text-align: right;\n",
       "    }\n",
       "</style>\n",
       "<table border=\"1\" class=\"dataframe\">\n",
       "  <thead>\n",
       "    <tr style=\"text-align: right;\">\n",
       "      <th></th>\n",
       "      <th>a</th>\n",
       "      <th>b</th>\n",
       "      <th>c</th>\n",
       "      <th>d</th>\n",
       "      <th>e</th>\n",
       "      <th>f</th>\n",
       "    </tr>\n",
       "  </thead>\n",
       "  <tbody>\n",
       "    <tr>\n",
       "      <th>Name</th>\n",
       "      <td>Pandy</td>\n",
       "      <td>Sandy</td>\n",
       "      <td>Randy</td>\n",
       "      <td>Mandy</td>\n",
       "      <td>Candy</td>\n",
       "      <td>Landy</td>\n",
       "    </tr>\n",
       "    <tr>\n",
       "      <th>Age</th>\n",
       "      <td>6</td>\n",
       "      <td>7</td>\n",
       "      <td>4</td>\n",
       "      <td>5</td>\n",
       "      <td>4</td>\n",
       "      <td>2</td>\n",
       "    </tr>\n",
       "    <tr>\n",
       "      <th>Bamboo Stick</th>\n",
       "      <td>10</td>\n",
       "      <td>15</td>\n",
       "      <td>20</td>\n",
       "      <td>25</td>\n",
       "      <td>30</td>\n",
       "      <td>35</td>\n",
       "    </tr>\n",
       "    <tr>\n",
       "      <th>Place</th>\n",
       "      <td>Greenland</td>\n",
       "      <td>Siberia</td>\n",
       "      <td>Antartica</td>\n",
       "      <td>Greenland</td>\n",
       "      <td>Siberia</td>\n",
       "      <td>Antartica</td>\n",
       "    </tr>\n",
       "  </tbody>\n",
       "</table>\n",
       "</div>"
      ],
      "text/plain": [
       "                      a        b          c          d        e          f\n",
       "Name              Pandy    Sandy      Randy      Mandy    Candy      Landy\n",
       "Age                   6        7          4          5        4          2\n",
       "Bamboo Stick         10       15         20         25       30         35\n",
       "Place         Greenland  Siberia  Antartica  Greenland  Siberia  Antartica"
      ]
     },
     "execution_count": 63,
     "metadata": {},
     "output_type": "execute_result"
    }
   ],
   "source": [
    "df.T"
   ]
  },
  {
   "cell_type": "markdown",
   "id": "8c77ca0b-9e66-4475-8e01-fae183df3c71",
   "metadata": {},
   "source": [
    "### Update (loc)"
   ]
  },
  {
   "cell_type": "code",
   "execution_count": 101,
   "id": "a56d8b5f-4833-4c9f-8bd2-4351a3963bc2",
   "metadata": {},
   "outputs": [],
   "source": [
    "df.loc[df['Name']== 'Pandy', 'Age']=6  "
   ]
  },
  {
   "cell_type": "code",
   "execution_count": 102,
   "id": "fca90c10-1d0f-4672-90cc-75a6c9cda6d1",
   "metadata": {},
   "outputs": [
    {
     "data": {
      "text/html": [
       "<div>\n",
       "<style scoped>\n",
       "    .dataframe tbody tr th:only-of-type {\n",
       "        vertical-align: middle;\n",
       "    }\n",
       "\n",
       "    .dataframe tbody tr th {\n",
       "        vertical-align: top;\n",
       "    }\n",
       "\n",
       "    .dataframe thead th {\n",
       "        text-align: right;\n",
       "    }\n",
       "</style>\n",
       "<table border=\"1\" class=\"dataframe\">\n",
       "  <thead>\n",
       "    <tr style=\"text-align: right;\">\n",
       "      <th></th>\n",
       "      <th>Name</th>\n",
       "      <th>Age</th>\n",
       "      <th>Bamboo Stick</th>\n",
       "      <th>Place</th>\n",
       "    </tr>\n",
       "  </thead>\n",
       "  <tbody>\n",
       "    <tr>\n",
       "      <th>a</th>\n",
       "      <td>Pandy</td>\n",
       "      <td>6</td>\n",
       "      <td>10</td>\n",
       "      <td>Greenland</td>\n",
       "    </tr>\n",
       "    <tr>\n",
       "      <th>b</th>\n",
       "      <td>Sandy</td>\n",
       "      <td>7</td>\n",
       "      <td>15</td>\n",
       "      <td>Siberia</td>\n",
       "    </tr>\n",
       "    <tr>\n",
       "      <th>c</th>\n",
       "      <td>Randy</td>\n",
       "      <td>4</td>\n",
       "      <td>20</td>\n",
       "      <td>Antartica</td>\n",
       "    </tr>\n",
       "    <tr>\n",
       "      <th>d</th>\n",
       "      <td>Mandy</td>\n",
       "      <td>5</td>\n",
       "      <td>25</td>\n",
       "      <td>Greenland</td>\n",
       "    </tr>\n",
       "    <tr>\n",
       "      <th>e</th>\n",
       "      <td>Candy</td>\n",
       "      <td>4</td>\n",
       "      <td>30</td>\n",
       "      <td>Siberia</td>\n",
       "    </tr>\n",
       "    <tr>\n",
       "      <th>f</th>\n",
       "      <td>Landy</td>\n",
       "      <td>2</td>\n",
       "      <td>35</td>\n",
       "      <td>Antartica</td>\n",
       "    </tr>\n",
       "  </tbody>\n",
       "</table>\n",
       "</div>"
      ],
      "text/plain": [
       "    Name  Age  Bamboo Stick      Place\n",
       "a  Pandy    6            10  Greenland\n",
       "b  Sandy    7            15    Siberia\n",
       "c  Randy    4            20  Antartica\n",
       "d  Mandy    5            25  Greenland\n",
       "e  Candy    4            30    Siberia\n",
       "f  Landy    2            35  Antartica"
      ]
     },
     "execution_count": 102,
     "metadata": {},
     "output_type": "execute_result"
    }
   ],
   "source": [
    "df"
   ]
  },
  {
   "cell_type": "raw",
   "id": "112454e6-ce40-4f16-b346-13a07bc0ba96",
   "metadata": {},
   "source": [
    "df.loc is the function name, df is the name of the dataframe\n",
    "[df['Name']== 'Pandy', 'Age'] tracks row location\n",
    "['Name']== 'Pandy' Row information\n",
    "=6 is the updated value "
   ]
  },
  {
   "cell_type": "markdown",
   "id": "7d610995-7004-4695-bdc6-e79878af9647",
   "metadata": {},
   "source": [
    "#### Delete one Column"
   ]
  },
  {
   "cell_type": "code",
   "execution_count": null,
   "id": "6c200a35-5caf-4b00-8e8f-e77b314f67f6",
   "metadata": {},
   "outputs": [],
   "source": [
    "df.drop('Place',axis=1)\n"
   ]
  },
  {
   "cell_type": "code",
   "execution_count": null,
   "id": "e06fd829-9e12-4d1b-9647-0469593db868",
   "metadata": {},
   "outputs": [],
   "source": [
    "#### Delete multiple Column"
   ]
  },
  {
   "cell_type": "code",
   "execution_count": null,
   "id": "f084c404-7308-4931-9204-6e22c6efc3aa",
   "metadata": {},
   "outputs": [],
   "source": [
    "#df.drop(['Place','Bamboo Stick'],axis=1)\n"
   ]
  },
  {
   "cell_type": "markdown",
   "id": "9fe20196-1dcb-4e6c-ba42-4d828cf75fd8",
   "metadata": {},
   "source": [
    "#### Delete Row"
   ]
  },
  {
   "cell_type": "code",
   "execution_count": null,
   "id": "9c56a596-7d3f-435c-aadd-2f1f61a3cec6",
   "metadata": {},
   "outputs": [],
   "source": [
    "df"
   ]
  },
  {
   "cell_type": "code",
   "execution_count": null,
   "id": "02d12827-4bc5-4271-8d16-b57273f8cf8a",
   "metadata": {},
   "outputs": [],
   "source": [
    " df.drop(df[df['Name'] == 'Candy'].index)\n"
   ]
  },
  {
   "cell_type": "raw",
   "id": "87e1d3e1-f376-4a9c-8243-3d058e2fa7aa",
   "metadata": {},
   "source": [
    "✅ df[df['Name'] == 'Sandy'].index gives you the actual row index/indices where Name == 'Sandy'.\n",
    "🔍 .index in pandas is used to access the row labels (i.e., the indices) of a DataFrame or Series.\n"
   ]
  },
  {
   "cell_type": "code",
   "execution_count": null,
   "id": "a533cea5-d4d7-4ada-a569-0c931bbee7f6",
   "metadata": {},
   "outputs": [],
   "source": [
    "df"
   ]
  },
  {
   "cell_type": "markdown",
   "id": "d93bf4d2-9df1-4b90-8eb8-b16fe8f5ebd6",
   "metadata": {},
   "source": [
    "### iloc"
   ]
  },
  {
   "cell_type": "markdown",
   "id": "f5d0bcc0-a742-484f-b185-458c00cc6999",
   "metadata": {},
   "source": [
    "### show row data "
   ]
  },
  {
   "cell_type": "code",
   "execution_count": 103,
   "id": "c6aad34f-560f-4ddd-843d-31ea76ef6759",
   "metadata": {},
   "outputs": [
    {
     "data": {
      "text/plain": [
       "Name                Randy\n",
       "Age                     4\n",
       "Bamboo Stick           20\n",
       "Place           Antartica\n",
       "Name: c, dtype: object"
      ]
     },
     "execution_count": 103,
     "metadata": {},
     "output_type": "execute_result"
    }
   ],
   "source": [
    "df.iloc[2]"
   ]
  },
  {
   "cell_type": "code",
   "execution_count": 104,
   "id": "3567c311-05ff-4686-b960-da739376d563",
   "metadata": {},
   "outputs": [
    {
     "data": {
      "text/html": [
       "<div>\n",
       "<style scoped>\n",
       "    .dataframe tbody tr th:only-of-type {\n",
       "        vertical-align: middle;\n",
       "    }\n",
       "\n",
       "    .dataframe tbody tr th {\n",
       "        vertical-align: top;\n",
       "    }\n",
       "\n",
       "    .dataframe thead th {\n",
       "        text-align: right;\n",
       "    }\n",
       "</style>\n",
       "<table border=\"1\" class=\"dataframe\">\n",
       "  <thead>\n",
       "    <tr style=\"text-align: right;\">\n",
       "      <th></th>\n",
       "      <th>Name</th>\n",
       "      <th>Age</th>\n",
       "      <th>Bamboo Stick</th>\n",
       "      <th>Place</th>\n",
       "    </tr>\n",
       "  </thead>\n",
       "  <tbody>\n",
       "    <tr>\n",
       "      <th>a</th>\n",
       "      <td>Pandy</td>\n",
       "      <td>6</td>\n",
       "      <td>10</td>\n",
       "      <td>Greenland</td>\n",
       "    </tr>\n",
       "    <tr>\n",
       "      <th>b</th>\n",
       "      <td>Sandy</td>\n",
       "      <td>7</td>\n",
       "      <td>15</td>\n",
       "      <td>Siberia</td>\n",
       "    </tr>\n",
       "    <tr>\n",
       "      <th>c</th>\n",
       "      <td>Randy</td>\n",
       "      <td>4</td>\n",
       "      <td>20</td>\n",
       "      <td>Antartica</td>\n",
       "    </tr>\n",
       "  </tbody>\n",
       "</table>\n",
       "</div>"
      ],
      "text/plain": [
       "    Name  Age  Bamboo Stick      Place\n",
       "a  Pandy    6            10  Greenland\n",
       "b  Sandy    7            15    Siberia\n",
       "c  Randy    4            20  Antartica"
      ]
     },
     "execution_count": 104,
     "metadata": {},
     "output_type": "execute_result"
    }
   ],
   "source": [
    "df.iloc[:3]"
   ]
  },
  {
   "cell_type": "code",
   "execution_count": 105,
   "id": "54ec4d79-3632-49b6-9839-00901e33970d",
   "metadata": {},
   "outputs": [
    {
     "data": {
      "text/html": [
       "<div>\n",
       "<style scoped>\n",
       "    .dataframe tbody tr th:only-of-type {\n",
       "        vertical-align: middle;\n",
       "    }\n",
       "\n",
       "    .dataframe tbody tr th {\n",
       "        vertical-align: top;\n",
       "    }\n",
       "\n",
       "    .dataframe thead th {\n",
       "        text-align: right;\n",
       "    }\n",
       "</style>\n",
       "<table border=\"1\" class=\"dataframe\">\n",
       "  <thead>\n",
       "    <tr style=\"text-align: right;\">\n",
       "      <th></th>\n",
       "      <th>Name</th>\n",
       "      <th>Age</th>\n",
       "      <th>Bamboo Stick</th>\n",
       "      <th>Place</th>\n",
       "    </tr>\n",
       "  </thead>\n",
       "  <tbody>\n",
       "    <tr>\n",
       "      <th>b</th>\n",
       "      <td>Sandy</td>\n",
       "      <td>7</td>\n",
       "      <td>15</td>\n",
       "      <td>Siberia</td>\n",
       "    </tr>\n",
       "    <tr>\n",
       "      <th>c</th>\n",
       "      <td>Randy</td>\n",
       "      <td>4</td>\n",
       "      <td>20</td>\n",
       "      <td>Antartica</td>\n",
       "    </tr>\n",
       "  </tbody>\n",
       "</table>\n",
       "</div>"
      ],
      "text/plain": [
       "    Name  Age  Bamboo Stick      Place\n",
       "b  Sandy    7            15    Siberia\n",
       "c  Randy    4            20  Antartica"
      ]
     },
     "execution_count": 105,
     "metadata": {},
     "output_type": "execute_result"
    }
   ],
   "source": [
    "df.iloc[1:3]"
   ]
  },
  {
   "cell_type": "markdown",
   "id": "3c34b8f3-81bd-4510-8d93-06c9025ed7e8",
   "metadata": {},
   "source": [
    "### show coulmn data "
   ]
  },
  {
   "cell_type": "code",
   "execution_count": null,
   "id": "3b9bbe63-c889-456b-bcb0-0c1acab2642c",
   "metadata": {},
   "outputs": [],
   "source": [
    "df ['Place']"
   ]
  },
  {
   "cell_type": "markdown",
   "id": "de631237-7625-4c95-9ddc-414075eea9e8",
   "metadata": {},
   "source": [
    "#### row and column"
   ]
  },
  {
   "cell_type": "code",
   "execution_count": null,
   "id": "2cc6801b-a3e4-4b5d-bf11-02a22cdcc1a8",
   "metadata": {},
   "outputs": [],
   "source": [
    "df.iloc [0:2,1:3]"
   ]
  },
  {
   "cell_type": "markdown",
   "id": "235939a6-38b7-44e8-8de6-b7fca3cb91f5",
   "metadata": {},
   "source": [
    "###  New index"
   ]
  },
  {
   "cell_type": "code",
   "execution_count": 53,
   "id": "9c72253a-4cee-45cf-9987-10541da2438f",
   "metadata": {},
   "outputs": [],
   "source": [
    "import pandas as pd\n",
    "\n",
    "df = pd.DataFrame(\n",
    "    {\n",
    "        'Name': ['Pandy', 'Sandy', 'Randy', 'Mandy', 'Candy', 'Landy'],\n",
    "        'Age': [6, 7, 4, 5, 4, 2],\n",
    "        'Bamboo Stick': [10, 15, 20, 25, 30, 35]\n",
    "    },\n",
    "    index=['a', 'b', 'c', 'd', 'e', 'f']\n",
    ")\n"
   ]
  },
  {
   "cell_type": "code",
   "execution_count": 54,
   "id": "e4a41ab3-15fb-45d4-a9ef-68dbba64ea9c",
   "metadata": {},
   "outputs": [
    {
     "data": {
      "text/html": [
       "<div>\n",
       "<style scoped>\n",
       "    .dataframe tbody tr th:only-of-type {\n",
       "        vertical-align: middle;\n",
       "    }\n",
       "\n",
       "    .dataframe tbody tr th {\n",
       "        vertical-align: top;\n",
       "    }\n",
       "\n",
       "    .dataframe thead th {\n",
       "        text-align: right;\n",
       "    }\n",
       "</style>\n",
       "<table border=\"1\" class=\"dataframe\">\n",
       "  <thead>\n",
       "    <tr style=\"text-align: right;\">\n",
       "      <th></th>\n",
       "      <th>Name</th>\n",
       "      <th>Age</th>\n",
       "      <th>Bamboo Stick</th>\n",
       "    </tr>\n",
       "  </thead>\n",
       "  <tbody>\n",
       "    <tr>\n",
       "      <th>a</th>\n",
       "      <td>Pandy</td>\n",
       "      <td>6</td>\n",
       "      <td>10</td>\n",
       "    </tr>\n",
       "    <tr>\n",
       "      <th>b</th>\n",
       "      <td>Sandy</td>\n",
       "      <td>7</td>\n",
       "      <td>15</td>\n",
       "    </tr>\n",
       "    <tr>\n",
       "      <th>c</th>\n",
       "      <td>Randy</td>\n",
       "      <td>4</td>\n",
       "      <td>20</td>\n",
       "    </tr>\n",
       "    <tr>\n",
       "      <th>d</th>\n",
       "      <td>Mandy</td>\n",
       "      <td>5</td>\n",
       "      <td>25</td>\n",
       "    </tr>\n",
       "    <tr>\n",
       "      <th>e</th>\n",
       "      <td>Candy</td>\n",
       "      <td>4</td>\n",
       "      <td>30</td>\n",
       "    </tr>\n",
       "    <tr>\n",
       "      <th>f</th>\n",
       "      <td>Landy</td>\n",
       "      <td>2</td>\n",
       "      <td>35</td>\n",
       "    </tr>\n",
       "  </tbody>\n",
       "</table>\n",
       "</div>"
      ],
      "text/plain": [
       "    Name  Age  Bamboo Stick\n",
       "a  Pandy    6            10\n",
       "b  Sandy    7            15\n",
       "c  Randy    4            20\n",
       "d  Mandy    5            25\n",
       "e  Candy    4            30\n",
       "f  Landy    2            35"
      ]
     },
     "execution_count": 54,
     "metadata": {},
     "output_type": "execute_result"
    }
   ],
   "source": [
    "df"
   ]
  },
  {
   "cell_type": "markdown",
   "id": "ab83b67e-4b00-4ac6-b8e4-846caed1fcf7",
   "metadata": {},
   "source": [
    "### loc"
   ]
  },
  {
   "cell_type": "markdown",
   "id": "4d0fd294-439f-4568-80cb-3c6532797a7c",
   "metadata": {},
   "source": [
    "#### column"
   ]
  },
  {
   "cell_type": "code",
   "execution_count": 55,
   "id": "2a126bfb-f0b9-4b2e-9525-a54132af1ebf",
   "metadata": {},
   "outputs": [
    {
     "data": {
      "text/plain": [
       "Name            Sandy\n",
       "Age                 7\n",
       "Bamboo Stick       15\n",
       "Name: b, dtype: object"
      ]
     },
     "execution_count": 55,
     "metadata": {},
     "output_type": "execute_result"
    }
   ],
   "source": [
    "df.loc['b']"
   ]
  },
  {
   "cell_type": "markdown",
   "id": "72ba61b1-a63b-41e3-939e-71d30bd62338",
   "metadata": {},
   "source": [
    "#### both row & column"
   ]
  },
  {
   "cell_type": "code",
   "execution_count": 56,
   "id": "69ed1e72-a069-4e63-b597-6227815d4000",
   "metadata": {},
   "outputs": [
    {
     "data": {
      "text/html": [
       "<div>\n",
       "<style scoped>\n",
       "    .dataframe tbody tr th:only-of-type {\n",
       "        vertical-align: middle;\n",
       "    }\n",
       "\n",
       "    .dataframe tbody tr th {\n",
       "        vertical-align: top;\n",
       "    }\n",
       "\n",
       "    .dataframe thead th {\n",
       "        text-align: right;\n",
       "    }\n",
       "</style>\n",
       "<table border=\"1\" class=\"dataframe\">\n",
       "  <thead>\n",
       "    <tr style=\"text-align: right;\">\n",
       "      <th></th>\n",
       "      <th>Name</th>\n",
       "      <th>Age</th>\n",
       "    </tr>\n",
       "  </thead>\n",
       "  <tbody>\n",
       "    <tr>\n",
       "      <th>b</th>\n",
       "      <td>Sandy</td>\n",
       "      <td>7</td>\n",
       "    </tr>\n",
       "    <tr>\n",
       "      <th>c</th>\n",
       "      <td>Randy</td>\n",
       "      <td>4</td>\n",
       "    </tr>\n",
       "  </tbody>\n",
       "</table>\n",
       "</div>"
      ],
      "text/plain": [
       "    Name  Age\n",
       "b  Sandy    7\n",
       "c  Randy    4"
      ]
     },
     "execution_count": 56,
     "metadata": {},
     "output_type": "execute_result"
    }
   ],
   "source": [
    "df.loc[['b','c'], ['Name','Age']]"
   ]
  },
  {
   "cell_type": "code",
   "execution_count": null,
   "id": "89123ecf-0f10-4b94-9b57-6fe75104bc08",
   "metadata": {},
   "outputs": [],
   "source": []
  },
  {
   "cell_type": "markdown",
   "id": "28696cf8-a029-4a63-96a9-ffd0bab7e66c",
   "metadata": {},
   "source": [
    "### Conevrt to csv"
   ]
  },
  {
   "cell_type": "code",
   "execution_count": null,
   "id": "e295bdb6-7c71-44cf-a6ab-b32c4a9c375b",
   "metadata": {},
   "outputs": [],
   "source": [
    "df.to_csv('panda.csv')"
   ]
  },
  {
   "cell_type": "raw",
   "id": "6a331086-ac6e-4f5e-a071-809fb9e00720",
   "metadata": {},
   "source": [
    "We would see a csv file on the local folder"
   ]
  },
  {
   "cell_type": "markdown",
   "id": "98e9f7b7-bcfc-4423-8090-60fc33730e50",
   "metadata": {},
   "source": [
    "#### No index"
   ]
  },
  {
   "cell_type": "code",
   "execution_count": null,
   "id": "a440f46a-a262-4f3b-89ec-2da7bd51c5df",
   "metadata": {},
   "outputs": [],
   "source": [
    "df.to_csv('noIndex_panda.csv', index=False)"
   ]
  },
  {
   "cell_type": "code",
   "execution_count": null,
   "id": "25edb1df-a22b-491e-8675-f409725f9717",
   "metadata": {},
   "outputs": [],
   "source": [
    "df"
   ]
  },
  {
   "cell_type": "markdown",
   "id": "6ef7bb41-a90e-4f44-adfb-e83e641da138",
   "metadata": {},
   "source": [
    "### Statistical Analysis"
   ]
  },
  {
   "cell_type": "code",
   "execution_count": null,
   "id": "f0386453-c560-455a-bb2d-6e1a6cefab6b",
   "metadata": {},
   "outputs": [],
   "source": [
    "df.describe()"
   ]
  },
  {
   "cell_type": "markdown",
   "id": "c58a99d8-a1d8-4e6e-b646-585e19ea9e35",
   "metadata": {},
   "source": [
    "# EXERCISE SESSION"
   ]
  },
  {
   "cell_type": "markdown",
   "id": "bdbb7fe7-3d55-45dc-ae3b-9359dc1690ba",
   "metadata": {},
   "source": [
    "### Json"
   ]
  },
  {
   "cell_type": "code",
   "execution_count": 113,
   "id": "af71f60b-911a-4e83-8ab9-b108607a6bfb",
   "metadata": {},
   "outputs": [],
   "source": [
    "df_json=pd.read_json('test.json')"
   ]
  },
  {
   "cell_type": "code",
   "execution_count": 114,
   "id": "1070ac78-04c5-4a70-91bb-1a1879e85cb2",
   "metadata": {},
   "outputs": [
    {
     "data": {
      "text/html": [
       "<div>\n",
       "<style scoped>\n",
       "    .dataframe tbody tr th:only-of-type {\n",
       "        vertical-align: middle;\n",
       "    }\n",
       "\n",
       "    .dataframe tbody tr th {\n",
       "        vertical-align: top;\n",
       "    }\n",
       "\n",
       "    .dataframe thead th {\n",
       "        text-align: right;\n",
       "    }\n",
       "</style>\n",
       "<table border=\"1\" class=\"dataframe\">\n",
       "  <thead>\n",
       "    <tr style=\"text-align: right;\">\n",
       "      <th></th>\n",
       "      <th>Duration</th>\n",
       "      <th>Pulse</th>\n",
       "      <th>Maxpulse</th>\n",
       "      <th>Calories</th>\n",
       "    </tr>\n",
       "  </thead>\n",
       "  <tbody>\n",
       "    <tr>\n",
       "      <th>0</th>\n",
       "      <td>60</td>\n",
       "      <td>110</td>\n",
       "      <td>130</td>\n",
       "      <td>409</td>\n",
       "    </tr>\n",
       "    <tr>\n",
       "      <th>1</th>\n",
       "      <td>60</td>\n",
       "      <td>117</td>\n",
       "      <td>145</td>\n",
       "      <td>479</td>\n",
       "    </tr>\n",
       "    <tr>\n",
       "      <th>2</th>\n",
       "      <td>60</td>\n",
       "      <td>103</td>\n",
       "      <td>135</td>\n",
       "      <td>340</td>\n",
       "    </tr>\n",
       "    <tr>\n",
       "      <th>3</th>\n",
       "      <td>45</td>\n",
       "      <td>109</td>\n",
       "      <td>175</td>\n",
       "      <td>282</td>\n",
       "    </tr>\n",
       "    <tr>\n",
       "      <th>4</th>\n",
       "      <td>45</td>\n",
       "      <td>117</td>\n",
       "      <td>148</td>\n",
       "      <td>406</td>\n",
       "    </tr>\n",
       "    <tr>\n",
       "      <th>5</th>\n",
       "      <td>60</td>\n",
       "      <td>102</td>\n",
       "      <td>127</td>\n",
       "      <td>300</td>\n",
       "    </tr>\n",
       "  </tbody>\n",
       "</table>\n",
       "</div>"
      ],
      "text/plain": [
       "   Duration  Pulse  Maxpulse  Calories\n",
       "0        60    110       130       409\n",
       "1        60    117       145       479\n",
       "2        60    103       135       340\n",
       "3        45    109       175       282\n",
       "4        45    117       148       406\n",
       "5        60    102       127       300"
      ]
     },
     "execution_count": 114,
     "metadata": {},
     "output_type": "execute_result"
    }
   ],
   "source": [
    "df_json"
   ]
  },
  {
   "cell_type": "code",
   "execution_count": null,
   "id": "4c2290a9-81dc-4031-9aa7-f6a714d698ec",
   "metadata": {},
   "outputs": [],
   "source": [
    "df_json.head()"
   ]
  },
  {
   "cell_type": "markdown",
   "id": "7bb733ec-dd72-4d66-a68d-bebd5fd129ec",
   "metadata": {},
   "source": [
    "### shape"
   ]
  },
  {
   "cell_type": "code",
   "execution_count": null,
   "id": "9879fce6-a9d8-4195-a049-1504e9193474",
   "metadata": {},
   "outputs": [],
   "source": [
    "df_json.shape"
   ]
  },
  {
   "cell_type": "markdown",
   "id": "5840dd3f-5b1c-4b18-bf17-f7bb29a233ee",
   "metadata": {},
   "source": [
    "### Read CSV"
   ]
  },
  {
   "cell_type": "code",
   "execution_count": null,
   "id": "b853af96-1a4a-4bf9-a55e-86a29301a499",
   "metadata": {},
   "outputs": [],
   "source": [
    "df_json.to_csv(\"test_excel.csv\",index=False)"
   ]
  },
  {
   "cell_type": "code",
   "execution_count": null,
   "id": "e47dec81-6357-4090-acd7-4fd1735ba7ff",
   "metadata": {},
   "outputs": [],
   "source": [
    "df_csv=pd.read_csv(\"test_excel.csv\")"
   ]
  },
  {
   "cell_type": "code",
   "execution_count": null,
   "id": "ae8b64d8-93d9-4f24-a473-f27e0bb80bdc",
   "metadata": {},
   "outputs": [],
   "source": [
    "df_csv"
   ]
  },
  {
   "cell_type": "markdown",
   "id": "0880bc66-7070-4660-89ab-8812904c09c8",
   "metadata": {},
   "source": [
    "### excel convert"
   ]
  },
  {
   "cell_type": "code",
   "execution_count": null,
   "id": "0553f76d-07ba-4874-9402-72f0553ea12f",
   "metadata": {},
   "outputs": [],
   "source": [
    "df_excel=df_csv.drop('Calories',axis=1)"
   ]
  },
  {
   "cell_type": "code",
   "execution_count": null,
   "id": "4b861fb9-f30c-4057-a882-9b6e36f69eb3",
   "metadata": {},
   "outputs": [],
   "source": [
    "df_excel"
   ]
  },
  {
   "cell_type": "raw",
   "id": "0a91b397-0d51-42ea-8fc9-15ea3f323a0e",
   "metadata": {},
   "source": [
    "pip install openpyxl"
   ]
  },
  {
   "cell_type": "code",
   "execution_count": null,
   "id": "23c148ac-ae02-466d-91cc-d6cbfd51cc87",
   "metadata": {},
   "outputs": [],
   "source": [
    "df_excel.to_excel(\"output.xlsx\",index=False)"
   ]
  },
  {
   "cell_type": "code",
   "execution_count": null,
   "id": "7dd22f23-14e9-4b3b-b659-c77d526efa4e",
   "metadata": {},
   "outputs": [],
   "source": [
    "df_excel"
   ]
  },
  {
   "cell_type": "markdown",
   "id": "9c1879d5-855b-415a-9416-0f5fe5414342",
   "metadata": {},
   "source": [
    "###  Data Merge"
   ]
  },
  {
   "cell_type": "code",
   "execution_count": null,
   "id": "2a9148de-0460-4bbc-9504-a186148eb0ea",
   "metadata": {},
   "outputs": [],
   "source": [
    "left= pd.DataFrame({\n",
    "    'ID': [1,2,3],\n",
    "    'Name': ['Pandy', 'Mandy',' Sandy']\n",
    "})\n",
    "right= pd.DataFrame({\n",
    "    'ID': [1,2,4],\n",
    "    'Hobby': ['Eating', 'Dancing',' Sleeping']\n",
    "})                   "
   ]
  },
  {
   "cell_type": "code",
   "execution_count": null,
   "id": "f18d4b94-73b9-4925-9db5-f47946012fce",
   "metadata": {},
   "outputs": [],
   "source": [
    "merged_df=pd.merge(left,right, on='ID', how='inner')"
   ]
  },
  {
   "cell_type": "code",
   "execution_count": null,
   "id": "268969f6-c363-488c-ab1a-f84459d1a5b4",
   "metadata": {},
   "outputs": [],
   "source": [
    "merged_df"
   ]
  },
  {
   "cell_type": "markdown",
   "id": "d078beb6-6d6e-4908-b639-2da91d947860",
   "metadata": {},
   "source": [
    "### concat"
   ]
  },
  {
   "cell_type": "markdown",
   "id": "326ac8ff-4906-458a-ad8a-6791e4bb1965",
   "metadata": {},
   "source": [
    "### row"
   ]
  },
  {
   "cell_type": "code",
   "execution_count": null,
   "id": "b206bfb3-7e0a-4f41-9bed-ca80fb88acce",
   "metadata": {},
   "outputs": [],
   "source": [
    "concat_df=pd.concat([left,right],ignore_index=True) #ignore index helps to prevent overflow of index"
   ]
  },
  {
   "cell_type": "code",
   "execution_count": null,
   "id": "6947aab0-949e-4089-89ec-748d4f21bffc",
   "metadata": {},
   "outputs": [],
   "source": [
    "concat_df\n"
   ]
  },
  {
   "cell_type": "markdown",
   "id": "0d646220-2bd9-4eb9-be23-fb44c837c943",
   "metadata": {},
   "source": [
    "### coulmn"
   ]
  },
  {
   "cell_type": "code",
   "execution_count": null,
   "id": "207a6df3-4d8d-40f2-8541-c70378434669",
   "metadata": {},
   "outputs": [],
   "source": [
    "concat_df=pd.concat([left,right],axis=1)"
   ]
  },
  {
   "cell_type": "code",
   "execution_count": null,
   "id": "4422b3eb-8c66-4333-a5c5-c9b8649f079e",
   "metadata": {},
   "outputs": [],
   "source": [
    "concat_df"
   ]
  },
  {
   "cell_type": "markdown",
   "id": "c69c306a-9d21-4c4a-a145-317d343332db",
   "metadata": {},
   "source": [
    "#  NUMERICAL RANDOM DATA"
   ]
  },
  {
   "cell_type": "markdown",
   "id": "5b2ccdbb-9be7-4c1b-924a-7af28be701f7",
   "metadata": {},
   "source": [
    "### Series"
   ]
  },
  {
   "cell_type": "code",
   "execution_count": 15,
   "id": "0f9b2b46-0f3c-4895-9b73-a60408fd068f",
   "metadata": {},
   "outputs": [],
   "source": [
    "import numpy as np"
   ]
  },
  {
   "cell_type": "code",
   "execution_count": 16,
   "id": "03e6c57f-e6c7-4fb5-b796-1a7d49cf02b7",
   "metadata": {},
   "outputs": [],
   "source": [
    "ser = pd.Series(np.random.rand(34))"
   ]
  },
  {
   "cell_type": "code",
   "execution_count": 17,
   "id": "aa7e9253-73e5-45c2-8594-030c1c43287b",
   "metadata": {},
   "outputs": [
    {
     "data": {
      "text/plain": [
       "0     0.437257\n",
       "1     0.672167\n",
       "2     0.643318\n",
       "3     0.126129\n",
       "4     0.476269\n",
       "5     0.488270\n",
       "6     0.200462\n",
       "7     0.789680\n",
       "8     0.721839\n",
       "9     0.865649\n",
       "10    0.967068\n",
       "11    0.268808\n",
       "12    0.865886\n",
       "13    0.415624\n",
       "14    0.440656\n",
       "15    0.318285\n",
       "16    0.895138\n",
       "17    0.239229\n",
       "18    0.397665\n",
       "19    0.135752\n",
       "20    0.940840\n",
       "21    0.581217\n",
       "22    0.538594\n",
       "23    0.779565\n",
       "24    0.841457\n",
       "25    0.277844\n",
       "26    0.770780\n",
       "27    0.872953\n",
       "28    0.581109\n",
       "29    0.322640\n",
       "30    0.398181\n",
       "31    0.597990\n",
       "32    0.521998\n",
       "33    0.806736\n",
       "dtype: float64"
      ]
     },
     "execution_count": 17,
     "metadata": {},
     "output_type": "execute_result"
    }
   ],
   "source": [
    "ser"
   ]
  },
  {
   "cell_type": "code",
   "execution_count": 18,
   "id": "ae360701-c307-47d8-b8be-c4627e7b1c73",
   "metadata": {},
   "outputs": [
    {
     "data": {
      "text/plain": [
       "pandas.core.series.Series"
      ]
     },
     "execution_count": 18,
     "metadata": {},
     "output_type": "execute_result"
    }
   ],
   "source": [
    "type(ser)"
   ]
  },
  {
   "cell_type": "markdown",
   "id": "d8f6097c-8a9b-441f-9232-3e79b3982e85",
   "metadata": {},
   "source": [
    "### Data Frame"
   ]
  },
  {
   "cell_type": "code",
   "execution_count": 19,
   "id": "e5422ccc-4af7-42b6-81d2-1ce1c3cb5f07",
   "metadata": {},
   "outputs": [],
   "source": [
    "newdf = pd.DataFrame(np.random.rand(334,5))"
   ]
  },
  {
   "cell_type": "code",
   "execution_count": 20,
   "id": "936ab3ff-c28a-4cca-88ef-62415f1889ef",
   "metadata": {},
   "outputs": [
    {
     "data": {
      "text/html": [
       "<div>\n",
       "<style scoped>\n",
       "    .dataframe tbody tr th:only-of-type {\n",
       "        vertical-align: middle;\n",
       "    }\n",
       "\n",
       "    .dataframe tbody tr th {\n",
       "        vertical-align: top;\n",
       "    }\n",
       "\n",
       "    .dataframe thead th {\n",
       "        text-align: right;\n",
       "    }\n",
       "</style>\n",
       "<table border=\"1\" class=\"dataframe\">\n",
       "  <thead>\n",
       "    <tr style=\"text-align: right;\">\n",
       "      <th></th>\n",
       "      <th>0</th>\n",
       "      <th>1</th>\n",
       "      <th>2</th>\n",
       "      <th>3</th>\n",
       "      <th>4</th>\n",
       "    </tr>\n",
       "  </thead>\n",
       "  <tbody>\n",
       "    <tr>\n",
       "      <th>0</th>\n",
       "      <td>0.261221</td>\n",
       "      <td>0.173479</td>\n",
       "      <td>0.293431</td>\n",
       "      <td>0.210040</td>\n",
       "      <td>0.470557</td>\n",
       "    </tr>\n",
       "    <tr>\n",
       "      <th>1</th>\n",
       "      <td>0.932840</td>\n",
       "      <td>0.818319</td>\n",
       "      <td>0.479297</td>\n",
       "      <td>0.760338</td>\n",
       "      <td>0.721950</td>\n",
       "    </tr>\n",
       "    <tr>\n",
       "      <th>2</th>\n",
       "      <td>0.486321</td>\n",
       "      <td>0.481523</td>\n",
       "      <td>0.735185</td>\n",
       "      <td>0.128476</td>\n",
       "      <td>0.924048</td>\n",
       "    </tr>\n",
       "    <tr>\n",
       "      <th>3</th>\n",
       "      <td>0.302316</td>\n",
       "      <td>0.062426</td>\n",
       "      <td>0.980375</td>\n",
       "      <td>0.562350</td>\n",
       "      <td>0.656357</td>\n",
       "    </tr>\n",
       "    <tr>\n",
       "      <th>4</th>\n",
       "      <td>0.195441</td>\n",
       "      <td>0.491135</td>\n",
       "      <td>0.394913</td>\n",
       "      <td>0.429096</td>\n",
       "      <td>0.338784</td>\n",
       "    </tr>\n",
       "    <tr>\n",
       "      <th>...</th>\n",
       "      <td>...</td>\n",
       "      <td>...</td>\n",
       "      <td>...</td>\n",
       "      <td>...</td>\n",
       "      <td>...</td>\n",
       "    </tr>\n",
       "    <tr>\n",
       "      <th>329</th>\n",
       "      <td>0.948860</td>\n",
       "      <td>0.357541</td>\n",
       "      <td>0.070486</td>\n",
       "      <td>0.411866</td>\n",
       "      <td>0.090378</td>\n",
       "    </tr>\n",
       "    <tr>\n",
       "      <th>330</th>\n",
       "      <td>0.123490</td>\n",
       "      <td>0.310212</td>\n",
       "      <td>0.020913</td>\n",
       "      <td>0.838736</td>\n",
       "      <td>0.445750</td>\n",
       "    </tr>\n",
       "    <tr>\n",
       "      <th>331</th>\n",
       "      <td>0.555272</td>\n",
       "      <td>0.514109</td>\n",
       "      <td>0.716483</td>\n",
       "      <td>0.712038</td>\n",
       "      <td>0.408906</td>\n",
       "    </tr>\n",
       "    <tr>\n",
       "      <th>332</th>\n",
       "      <td>0.014566</td>\n",
       "      <td>0.643004</td>\n",
       "      <td>0.506736</td>\n",
       "      <td>0.779470</td>\n",
       "      <td>0.421636</td>\n",
       "    </tr>\n",
       "    <tr>\n",
       "      <th>333</th>\n",
       "      <td>0.676938</td>\n",
       "      <td>0.125761</td>\n",
       "      <td>0.760196</td>\n",
       "      <td>0.340717</td>\n",
       "      <td>0.594747</td>\n",
       "    </tr>\n",
       "  </tbody>\n",
       "</table>\n",
       "<p>334 rows × 5 columns</p>\n",
       "</div>"
      ],
      "text/plain": [
       "            0         1         2         3         4\n",
       "0    0.261221  0.173479  0.293431  0.210040  0.470557\n",
       "1    0.932840  0.818319  0.479297  0.760338  0.721950\n",
       "2    0.486321  0.481523  0.735185  0.128476  0.924048\n",
       "3    0.302316  0.062426  0.980375  0.562350  0.656357\n",
       "4    0.195441  0.491135  0.394913  0.429096  0.338784\n",
       "..        ...       ...       ...       ...       ...\n",
       "329  0.948860  0.357541  0.070486  0.411866  0.090378\n",
       "330  0.123490  0.310212  0.020913  0.838736  0.445750\n",
       "331  0.555272  0.514109  0.716483  0.712038  0.408906\n",
       "332  0.014566  0.643004  0.506736  0.779470  0.421636\n",
       "333  0.676938  0.125761  0.760196  0.340717  0.594747\n",
       "\n",
       "[334 rows x 5 columns]"
      ]
     },
     "execution_count": 20,
     "metadata": {},
     "output_type": "execute_result"
    }
   ],
   "source": [
    "newdf\n"
   ]
  },
  {
   "cell_type": "code",
   "execution_count": 21,
   "id": "a02478e9-71b9-467d-abc3-5d44af7145d0",
   "metadata": {},
   "outputs": [
    {
     "data": {
      "text/plain": [
       "pandas.core.frame.DataFrame"
      ]
     },
     "execution_count": 21,
     "metadata": {},
     "output_type": "execute_result"
    }
   ],
   "source": [
    "type(newdf)"
   ]
  },
  {
   "cell_type": "code",
   "execution_count": 22,
   "id": "1b4c3701-0b53-4934-a1a6-5aabd3ced89d",
   "metadata": {},
   "outputs": [
    {
     "data": {
      "text/plain": [
       "RangeIndex(start=0, stop=334, step=1)"
      ]
     },
     "execution_count": 22,
     "metadata": {},
     "output_type": "execute_result"
    }
   ],
   "source": [
    "newdf.index"
   ]
  },
  {
   "cell_type": "code",
   "execution_count": 24,
   "id": "7ad8be3c-cf8f-4e85-b625-0e9b7ccd784a",
   "metadata": {},
   "outputs": [
    {
     "data": {
      "text/plain": [
       "RangeIndex(start=0, stop=5, step=1)"
      ]
     },
     "execution_count": 24,
     "metadata": {},
     "output_type": "execute_result"
    }
   ],
   "source": [
    "newdf.columns"
   ]
  },
  {
   "cell_type": "markdown",
   "id": "f2fad47a-7dc3-49a0-aa51-09ec0f695889",
   "metadata": {},
   "source": [
    "### Convert to Numpy"
   ]
  },
  {
   "cell_type": "code",
   "execution_count": 28,
   "id": "82e18e73-9ff6-4925-b8c5-4a26d96ff876",
   "metadata": {},
   "outputs": [
    {
     "data": {
      "text/plain": [
       "array([[0.26122059, 0.17347933, 0.29343143, 0.21003997, 0.47055689],\n",
       "       [0.93283979, 0.81831893, 0.47929661, 0.76033833, 0.72195037],\n",
       "       [0.48632113, 0.48152292, 0.73518498, 0.12847553, 0.9240483 ],\n",
       "       ...,\n",
       "       [0.55527223, 0.51410924, 0.71648271, 0.71203788, 0.40890648],\n",
       "       [0.01456566, 0.64300408, 0.50673608, 0.77946969, 0.421636  ],\n",
       "       [0.6769379 , 0.12576108, 0.76019607, 0.34071723, 0.59474727]],\n",
       "      shape=(334, 5))"
      ]
     },
     "execution_count": 28,
     "metadata": {},
     "output_type": "execute_result"
    }
   ],
   "source": [
    "newdf.to_numpy()"
   ]
  },
  {
   "cell_type": "code",
   "execution_count": 29,
   "id": "00b6358e-1b66-4f30-b1fe-dfb9270294f7",
   "metadata": {},
   "outputs": [
    {
     "data": {
      "text/html": [
       "<div>\n",
       "<style scoped>\n",
       "    .dataframe tbody tr th:only-of-type {\n",
       "        vertical-align: middle;\n",
       "    }\n",
       "\n",
       "    .dataframe tbody tr th {\n",
       "        vertical-align: top;\n",
       "    }\n",
       "\n",
       "    .dataframe thead th {\n",
       "        text-align: right;\n",
       "    }\n",
       "</style>\n",
       "<table border=\"1\" class=\"dataframe\">\n",
       "  <thead>\n",
       "    <tr style=\"text-align: right;\">\n",
       "      <th></th>\n",
       "      <th>0</th>\n",
       "      <th>1</th>\n",
       "      <th>2</th>\n",
       "      <th>3</th>\n",
       "      <th>4</th>\n",
       "    </tr>\n",
       "  </thead>\n",
       "  <tbody>\n",
       "    <tr>\n",
       "      <th>0</th>\n",
       "      <td>0.261221</td>\n",
       "      <td>0.173479</td>\n",
       "      <td>0.293431</td>\n",
       "      <td>0.210040</td>\n",
       "      <td>0.470557</td>\n",
       "    </tr>\n",
       "    <tr>\n",
       "      <th>1</th>\n",
       "      <td>0.932840</td>\n",
       "      <td>0.818319</td>\n",
       "      <td>0.479297</td>\n",
       "      <td>0.760338</td>\n",
       "      <td>0.721950</td>\n",
       "    </tr>\n",
       "    <tr>\n",
       "      <th>2</th>\n",
       "      <td>0.486321</td>\n",
       "      <td>0.481523</td>\n",
       "      <td>0.735185</td>\n",
       "      <td>0.128476</td>\n",
       "      <td>0.924048</td>\n",
       "    </tr>\n",
       "    <tr>\n",
       "      <th>3</th>\n",
       "      <td>0.302316</td>\n",
       "      <td>0.062426</td>\n",
       "      <td>0.980375</td>\n",
       "      <td>0.562350</td>\n",
       "      <td>0.656357</td>\n",
       "    </tr>\n",
       "    <tr>\n",
       "      <th>4</th>\n",
       "      <td>0.195441</td>\n",
       "      <td>0.491135</td>\n",
       "      <td>0.394913</td>\n",
       "      <td>0.429096</td>\n",
       "      <td>0.338784</td>\n",
       "    </tr>\n",
       "  </tbody>\n",
       "</table>\n",
       "</div>"
      ],
      "text/plain": [
       "          0         1         2         3         4\n",
       "0  0.261221  0.173479  0.293431  0.210040  0.470557\n",
       "1  0.932840  0.818319  0.479297  0.760338  0.721950\n",
       "2  0.486321  0.481523  0.735185  0.128476  0.924048\n",
       "3  0.302316  0.062426  0.980375  0.562350  0.656357\n",
       "4  0.195441  0.491135  0.394913  0.429096  0.338784"
      ]
     },
     "execution_count": 29,
     "metadata": {},
     "output_type": "execute_result"
    }
   ],
   "source": [
    "newdf.head()"
   ]
  },
  {
   "cell_type": "markdown",
   "id": "cbadae83-0e5b-4710-b4e6-d21a89bb3ef3",
   "metadata": {},
   "source": [
    "### Sort"
   ]
  },
  {
   "cell_type": "code",
   "execution_count": 42,
   "id": "3ff2ae40-d4a2-4914-92f3-212a22511a82",
   "metadata": {},
   "outputs": [],
   "source": [
    "sortdf = pd.DataFrame(np.random.randint(0,50,size=(334,5)))"
   ]
  },
  {
   "cell_type": "code",
   "execution_count": 43,
   "id": "52bf9096-ec08-468b-927a-6eea1735e290",
   "metadata": {},
   "outputs": [
    {
     "data": {
      "text/html": [
       "<div>\n",
       "<style scoped>\n",
       "    .dataframe tbody tr th:only-of-type {\n",
       "        vertical-align: middle;\n",
       "    }\n",
       "\n",
       "    .dataframe tbody tr th {\n",
       "        vertical-align: top;\n",
       "    }\n",
       "\n",
       "    .dataframe thead th {\n",
       "        text-align: right;\n",
       "    }\n",
       "</style>\n",
       "<table border=\"1\" class=\"dataframe\">\n",
       "  <thead>\n",
       "    <tr style=\"text-align: right;\">\n",
       "      <th></th>\n",
       "      <th>0</th>\n",
       "      <th>1</th>\n",
       "      <th>2</th>\n",
       "      <th>3</th>\n",
       "      <th>4</th>\n",
       "    </tr>\n",
       "  </thead>\n",
       "  <tbody>\n",
       "    <tr>\n",
       "      <th>0</th>\n",
       "      <td>26</td>\n",
       "      <td>8</td>\n",
       "      <td>46</td>\n",
       "      <td>7</td>\n",
       "      <td>42</td>\n",
       "    </tr>\n",
       "    <tr>\n",
       "      <th>1</th>\n",
       "      <td>23</td>\n",
       "      <td>25</td>\n",
       "      <td>12</td>\n",
       "      <td>32</td>\n",
       "      <td>16</td>\n",
       "    </tr>\n",
       "    <tr>\n",
       "      <th>2</th>\n",
       "      <td>19</td>\n",
       "      <td>7</td>\n",
       "      <td>2</td>\n",
       "      <td>21</td>\n",
       "      <td>40</td>\n",
       "    </tr>\n",
       "    <tr>\n",
       "      <th>3</th>\n",
       "      <td>46</td>\n",
       "      <td>35</td>\n",
       "      <td>31</td>\n",
       "      <td>19</td>\n",
       "      <td>18</td>\n",
       "    </tr>\n",
       "    <tr>\n",
       "      <th>4</th>\n",
       "      <td>39</td>\n",
       "      <td>42</td>\n",
       "      <td>29</td>\n",
       "      <td>34</td>\n",
       "      <td>49</td>\n",
       "    </tr>\n",
       "    <tr>\n",
       "      <th>...</th>\n",
       "      <td>...</td>\n",
       "      <td>...</td>\n",
       "      <td>...</td>\n",
       "      <td>...</td>\n",
       "      <td>...</td>\n",
       "    </tr>\n",
       "    <tr>\n",
       "      <th>329</th>\n",
       "      <td>3</td>\n",
       "      <td>48</td>\n",
       "      <td>19</td>\n",
       "      <td>45</td>\n",
       "      <td>1</td>\n",
       "    </tr>\n",
       "    <tr>\n",
       "      <th>330</th>\n",
       "      <td>24</td>\n",
       "      <td>10</td>\n",
       "      <td>19</td>\n",
       "      <td>1</td>\n",
       "      <td>3</td>\n",
       "    </tr>\n",
       "    <tr>\n",
       "      <th>331</th>\n",
       "      <td>8</td>\n",
       "      <td>21</td>\n",
       "      <td>41</td>\n",
       "      <td>16</td>\n",
       "      <td>16</td>\n",
       "    </tr>\n",
       "    <tr>\n",
       "      <th>332</th>\n",
       "      <td>32</td>\n",
       "      <td>6</td>\n",
       "      <td>35</td>\n",
       "      <td>2</td>\n",
       "      <td>47</td>\n",
       "    </tr>\n",
       "    <tr>\n",
       "      <th>333</th>\n",
       "      <td>46</td>\n",
       "      <td>7</td>\n",
       "      <td>4</td>\n",
       "      <td>39</td>\n",
       "      <td>15</td>\n",
       "    </tr>\n",
       "  </tbody>\n",
       "</table>\n",
       "<p>334 rows × 5 columns</p>\n",
       "</div>"
      ],
      "text/plain": [
       "      0   1   2   3   4\n",
       "0    26   8  46   7  42\n",
       "1    23  25  12  32  16\n",
       "2    19   7   2  21  40\n",
       "3    46  35  31  19  18\n",
       "4    39  42  29  34  49\n",
       "..   ..  ..  ..  ..  ..\n",
       "329   3  48  19  45   1\n",
       "330  24  10  19   1   3\n",
       "331   8  21  41  16  16\n",
       "332  32   6  35   2  47\n",
       "333  46   7   4  39  15\n",
       "\n",
       "[334 rows x 5 columns]"
      ]
     },
     "execution_count": 43,
     "metadata": {},
     "output_type": "execute_result"
    }
   ],
   "source": [
    "sortdf"
   ]
  },
  {
   "cell_type": "code",
   "execution_count": 44,
   "id": "6e8bec0c-a06b-46b3-8053-d53c3a1cf310",
   "metadata": {},
   "outputs": [
    {
     "data": {
      "text/html": [
       "<div>\n",
       "<style scoped>\n",
       "    .dataframe tbody tr th:only-of-type {\n",
       "        vertical-align: middle;\n",
       "    }\n",
       "\n",
       "    .dataframe tbody tr th {\n",
       "        vertical-align: top;\n",
       "    }\n",
       "\n",
       "    .dataframe thead th {\n",
       "        text-align: right;\n",
       "    }\n",
       "</style>\n",
       "<table border=\"1\" class=\"dataframe\">\n",
       "  <thead>\n",
       "    <tr style=\"text-align: right;\">\n",
       "      <th></th>\n",
       "      <th>0</th>\n",
       "      <th>1</th>\n",
       "      <th>2</th>\n",
       "      <th>3</th>\n",
       "      <th>4</th>\n",
       "    </tr>\n",
       "  </thead>\n",
       "  <tbody>\n",
       "    <tr>\n",
       "      <th>0</th>\n",
       "      <td>26</td>\n",
       "      <td>8</td>\n",
       "      <td>46</td>\n",
       "      <td>7</td>\n",
       "      <td>42</td>\n",
       "    </tr>\n",
       "    <tr>\n",
       "      <th>1</th>\n",
       "      <td>23</td>\n",
       "      <td>25</td>\n",
       "      <td>12</td>\n",
       "      <td>32</td>\n",
       "      <td>16</td>\n",
       "    </tr>\n",
       "    <tr>\n",
       "      <th>2</th>\n",
       "      <td>19</td>\n",
       "      <td>7</td>\n",
       "      <td>2</td>\n",
       "      <td>21</td>\n",
       "      <td>40</td>\n",
       "    </tr>\n",
       "    <tr>\n",
       "      <th>3</th>\n",
       "      <td>46</td>\n",
       "      <td>35</td>\n",
       "      <td>31</td>\n",
       "      <td>19</td>\n",
       "      <td>18</td>\n",
       "    </tr>\n",
       "    <tr>\n",
       "      <th>4</th>\n",
       "      <td>39</td>\n",
       "      <td>42</td>\n",
       "      <td>29</td>\n",
       "      <td>34</td>\n",
       "      <td>49</td>\n",
       "    </tr>\n",
       "  </tbody>\n",
       "</table>\n",
       "</div>"
      ],
      "text/plain": [
       "    0   1   2   3   4\n",
       "0  26   8  46   7  42\n",
       "1  23  25  12  32  16\n",
       "2  19   7   2  21  40\n",
       "3  46  35  31  19  18\n",
       "4  39  42  29  34  49"
      ]
     },
     "execution_count": 44,
     "metadata": {},
     "output_type": "execute_result"
    }
   ],
   "source": [
    "sortdf.head()"
   ]
  },
  {
   "cell_type": "code",
   "execution_count": 47,
   "id": "b31a4bff-d4bb-4ef9-b22d-40789aabf990",
   "metadata": {},
   "outputs": [
    {
     "data": {
      "text/html": [
       "<div>\n",
       "<style scoped>\n",
       "    .dataframe tbody tr th:only-of-type {\n",
       "        vertical-align: middle;\n",
       "    }\n",
       "\n",
       "    .dataframe tbody tr th {\n",
       "        vertical-align: top;\n",
       "    }\n",
       "\n",
       "    .dataframe thead th {\n",
       "        text-align: right;\n",
       "    }\n",
       "</style>\n",
       "<table border=\"1\" class=\"dataframe\">\n",
       "  <thead>\n",
       "    <tr style=\"text-align: right;\">\n",
       "      <th></th>\n",
       "      <th>4</th>\n",
       "      <th>3</th>\n",
       "      <th>2</th>\n",
       "      <th>1</th>\n",
       "      <th>0</th>\n",
       "    </tr>\n",
       "  </thead>\n",
       "  <tbody>\n",
       "    <tr>\n",
       "      <th>0</th>\n",
       "      <td>42</td>\n",
       "      <td>7</td>\n",
       "      <td>46</td>\n",
       "      <td>8</td>\n",
       "      <td>26</td>\n",
       "    </tr>\n",
       "    <tr>\n",
       "      <th>1</th>\n",
       "      <td>16</td>\n",
       "      <td>32</td>\n",
       "      <td>12</td>\n",
       "      <td>25</td>\n",
       "      <td>23</td>\n",
       "    </tr>\n",
       "    <tr>\n",
       "      <th>2</th>\n",
       "      <td>40</td>\n",
       "      <td>21</td>\n",
       "      <td>2</td>\n",
       "      <td>7</td>\n",
       "      <td>19</td>\n",
       "    </tr>\n",
       "    <tr>\n",
       "      <th>3</th>\n",
       "      <td>18</td>\n",
       "      <td>19</td>\n",
       "      <td>31</td>\n",
       "      <td>35</td>\n",
       "      <td>46</td>\n",
       "    </tr>\n",
       "    <tr>\n",
       "      <th>4</th>\n",
       "      <td>49</td>\n",
       "      <td>34</td>\n",
       "      <td>29</td>\n",
       "      <td>42</td>\n",
       "      <td>39</td>\n",
       "    </tr>\n",
       "    <tr>\n",
       "      <th>...</th>\n",
       "      <td>...</td>\n",
       "      <td>...</td>\n",
       "      <td>...</td>\n",
       "      <td>...</td>\n",
       "      <td>...</td>\n",
       "    </tr>\n",
       "    <tr>\n",
       "      <th>329</th>\n",
       "      <td>1</td>\n",
       "      <td>45</td>\n",
       "      <td>19</td>\n",
       "      <td>48</td>\n",
       "      <td>3</td>\n",
       "    </tr>\n",
       "    <tr>\n",
       "      <th>330</th>\n",
       "      <td>3</td>\n",
       "      <td>1</td>\n",
       "      <td>19</td>\n",
       "      <td>10</td>\n",
       "      <td>24</td>\n",
       "    </tr>\n",
       "    <tr>\n",
       "      <th>331</th>\n",
       "      <td>16</td>\n",
       "      <td>16</td>\n",
       "      <td>41</td>\n",
       "      <td>21</td>\n",
       "      <td>8</td>\n",
       "    </tr>\n",
       "    <tr>\n",
       "      <th>332</th>\n",
       "      <td>47</td>\n",
       "      <td>2</td>\n",
       "      <td>35</td>\n",
       "      <td>6</td>\n",
       "      <td>32</td>\n",
       "    </tr>\n",
       "    <tr>\n",
       "      <th>333</th>\n",
       "      <td>15</td>\n",
       "      <td>39</td>\n",
       "      <td>4</td>\n",
       "      <td>7</td>\n",
       "      <td>46</td>\n",
       "    </tr>\n",
       "  </tbody>\n",
       "</table>\n",
       "<p>334 rows × 5 columns</p>\n",
       "</div>"
      ],
      "text/plain": [
       "      4   3   2   1   0\n",
       "0    42   7  46   8  26\n",
       "1    16  32  12  25  23\n",
       "2    40  21   2   7  19\n",
       "3    18  19  31  35  46\n",
       "4    49  34  29  42  39\n",
       "..   ..  ..  ..  ..  ..\n",
       "329   1  45  19  48   3\n",
       "330   3   1  19  10  24\n",
       "331  16  16  41  21   8\n",
       "332  47   2  35   6  32\n",
       "333  15  39   4   7  46\n",
       "\n",
       "[334 rows x 5 columns]"
      ]
     },
     "execution_count": 47,
     "metadata": {},
     "output_type": "execute_result"
    }
   ],
   "source": [
    "sortdf.sort_index(axis=1,ascending=False) # To Column"
   ]
  },
  {
   "cell_type": "code",
   "execution_count": 48,
   "id": "1b68ca1c-cf54-44cd-99e2-4178dcdc2e6e",
   "metadata": {
    "scrolled": true
   },
   "outputs": [
    {
     "data": {
      "text/html": [
       "<div>\n",
       "<style scoped>\n",
       "    .dataframe tbody tr th:only-of-type {\n",
       "        vertical-align: middle;\n",
       "    }\n",
       "\n",
       "    .dataframe tbody tr th {\n",
       "        vertical-align: top;\n",
       "    }\n",
       "\n",
       "    .dataframe thead th {\n",
       "        text-align: right;\n",
       "    }\n",
       "</style>\n",
       "<table border=\"1\" class=\"dataframe\">\n",
       "  <thead>\n",
       "    <tr style=\"text-align: right;\">\n",
       "      <th></th>\n",
       "      <th>0</th>\n",
       "      <th>1</th>\n",
       "      <th>2</th>\n",
       "      <th>3</th>\n",
       "      <th>4</th>\n",
       "    </tr>\n",
       "  </thead>\n",
       "  <tbody>\n",
       "    <tr>\n",
       "      <th>333</th>\n",
       "      <td>46</td>\n",
       "      <td>7</td>\n",
       "      <td>4</td>\n",
       "      <td>39</td>\n",
       "      <td>15</td>\n",
       "    </tr>\n",
       "    <tr>\n",
       "      <th>332</th>\n",
       "      <td>32</td>\n",
       "      <td>6</td>\n",
       "      <td>35</td>\n",
       "      <td>2</td>\n",
       "      <td>47</td>\n",
       "    </tr>\n",
       "    <tr>\n",
       "      <th>331</th>\n",
       "      <td>8</td>\n",
       "      <td>21</td>\n",
       "      <td>41</td>\n",
       "      <td>16</td>\n",
       "      <td>16</td>\n",
       "    </tr>\n",
       "    <tr>\n",
       "      <th>330</th>\n",
       "      <td>24</td>\n",
       "      <td>10</td>\n",
       "      <td>19</td>\n",
       "      <td>1</td>\n",
       "      <td>3</td>\n",
       "    </tr>\n",
       "    <tr>\n",
       "      <th>329</th>\n",
       "      <td>3</td>\n",
       "      <td>48</td>\n",
       "      <td>19</td>\n",
       "      <td>45</td>\n",
       "      <td>1</td>\n",
       "    </tr>\n",
       "    <tr>\n",
       "      <th>...</th>\n",
       "      <td>...</td>\n",
       "      <td>...</td>\n",
       "      <td>...</td>\n",
       "      <td>...</td>\n",
       "      <td>...</td>\n",
       "    </tr>\n",
       "    <tr>\n",
       "      <th>4</th>\n",
       "      <td>39</td>\n",
       "      <td>42</td>\n",
       "      <td>29</td>\n",
       "      <td>34</td>\n",
       "      <td>49</td>\n",
       "    </tr>\n",
       "    <tr>\n",
       "      <th>3</th>\n",
       "      <td>46</td>\n",
       "      <td>35</td>\n",
       "      <td>31</td>\n",
       "      <td>19</td>\n",
       "      <td>18</td>\n",
       "    </tr>\n",
       "    <tr>\n",
       "      <th>2</th>\n",
       "      <td>19</td>\n",
       "      <td>7</td>\n",
       "      <td>2</td>\n",
       "      <td>21</td>\n",
       "      <td>40</td>\n",
       "    </tr>\n",
       "    <tr>\n",
       "      <th>1</th>\n",
       "      <td>23</td>\n",
       "      <td>25</td>\n",
       "      <td>12</td>\n",
       "      <td>32</td>\n",
       "      <td>16</td>\n",
       "    </tr>\n",
       "    <tr>\n",
       "      <th>0</th>\n",
       "      <td>26</td>\n",
       "      <td>8</td>\n",
       "      <td>46</td>\n",
       "      <td>7</td>\n",
       "      <td>42</td>\n",
       "    </tr>\n",
       "  </tbody>\n",
       "</table>\n",
       "<p>334 rows × 5 columns</p>\n",
       "</div>"
      ],
      "text/plain": [
       "      0   1   2   3   4\n",
       "333  46   7   4  39  15\n",
       "332  32   6  35   2  47\n",
       "331   8  21  41  16  16\n",
       "330  24  10  19   1   3\n",
       "329   3  48  19  45   1\n",
       "..   ..  ..  ..  ..  ..\n",
       "4    39  42  29  34  49\n",
       "3    46  35  31  19  18\n",
       "2    19   7   2  21  40\n",
       "1    23  25  12  32  16\n",
       "0    26   8  46   7  42\n",
       "\n",
       "[334 rows x 5 columns]"
      ]
     },
     "execution_count": 48,
     "metadata": {},
     "output_type": "execute_result"
    }
   ],
   "source": [
    "sortdf.sort_index(axis=0,ascending=False) # To Row"
   ]
  },
  {
   "cell_type": "code",
   "execution_count": 50,
   "id": "06cd65ac-38a3-4974-bf24-f385439ffcef",
   "metadata": {},
   "outputs": [
    {
     "data": {
      "text/plain": [
       "pandas.core.frame.DataFrame"
      ]
     },
     "execution_count": 50,
     "metadata": {},
     "output_type": "execute_result"
    }
   ],
   "source": [
    "type(sortdf)"
   ]
  },
  {
   "cell_type": "code",
   "execution_count": 52,
   "id": "5e5cf871-a80f-460b-afd2-3582ed21efdc",
   "metadata": {},
   "outputs": [
    {
     "data": {
      "text/plain": [
       "pandas.core.series.Series"
      ]
     },
     "execution_count": 52,
     "metadata": {},
     "output_type": "execute_result"
    }
   ],
   "source": [
    "type(sortdf[0])"
   ]
  },
  {
   "cell_type": "markdown",
   "id": "3ef33b9c-1cfd-42a0-85be-0ed38084c36b",
   "metadata": {},
   "source": [
    "### Update Value (loc)"
   ]
  },
  {
   "cell_type": "code",
   "execution_count": 66,
   "id": "da297063-0b30-4601-bdfc-740bc3b675dd",
   "metadata": {},
   "outputs": [],
   "source": [
    "sortdf.loc[0,0]=654"
   ]
  },
  {
   "cell_type": "code",
   "execution_count": 67,
   "id": "b239e5d8-c431-4869-84ce-b562e812a62d",
   "metadata": {},
   "outputs": [
    {
     "data": {
      "text/html": [
       "<div>\n",
       "<style scoped>\n",
       "    .dataframe tbody tr th:only-of-type {\n",
       "        vertical-align: middle;\n",
       "    }\n",
       "\n",
       "    .dataframe tbody tr th {\n",
       "        vertical-align: top;\n",
       "    }\n",
       "\n",
       "    .dataframe thead th {\n",
       "        text-align: right;\n",
       "    }\n",
       "</style>\n",
       "<table border=\"1\" class=\"dataframe\">\n",
       "  <thead>\n",
       "    <tr style=\"text-align: right;\">\n",
       "      <th></th>\n",
       "      <th>0</th>\n",
       "      <th>1</th>\n",
       "      <th>2</th>\n",
       "      <th>3</th>\n",
       "      <th>4</th>\n",
       "    </tr>\n",
       "  </thead>\n",
       "  <tbody>\n",
       "    <tr>\n",
       "      <th>0</th>\n",
       "      <td>654</td>\n",
       "      <td>8</td>\n",
       "      <td>46</td>\n",
       "      <td>7</td>\n",
       "      <td>42</td>\n",
       "    </tr>\n",
       "    <tr>\n",
       "      <th>1</th>\n",
       "      <td>23</td>\n",
       "      <td>25</td>\n",
       "      <td>12</td>\n",
       "      <td>32</td>\n",
       "      <td>16</td>\n",
       "    </tr>\n",
       "    <tr>\n",
       "      <th>2</th>\n",
       "      <td>19</td>\n",
       "      <td>7</td>\n",
       "      <td>2</td>\n",
       "      <td>21</td>\n",
       "      <td>40</td>\n",
       "    </tr>\n",
       "    <tr>\n",
       "      <th>3</th>\n",
       "      <td>46</td>\n",
       "      <td>35</td>\n",
       "      <td>31</td>\n",
       "      <td>19</td>\n",
       "      <td>18</td>\n",
       "    </tr>\n",
       "    <tr>\n",
       "      <th>4</th>\n",
       "      <td>39</td>\n",
       "      <td>42</td>\n",
       "      <td>29</td>\n",
       "      <td>34</td>\n",
       "      <td>49</td>\n",
       "    </tr>\n",
       "    <tr>\n",
       "      <th>...</th>\n",
       "      <td>...</td>\n",
       "      <td>...</td>\n",
       "      <td>...</td>\n",
       "      <td>...</td>\n",
       "      <td>...</td>\n",
       "    </tr>\n",
       "    <tr>\n",
       "      <th>329</th>\n",
       "      <td>3</td>\n",
       "      <td>48</td>\n",
       "      <td>19</td>\n",
       "      <td>45</td>\n",
       "      <td>1</td>\n",
       "    </tr>\n",
       "    <tr>\n",
       "      <th>330</th>\n",
       "      <td>24</td>\n",
       "      <td>10</td>\n",
       "      <td>19</td>\n",
       "      <td>1</td>\n",
       "      <td>3</td>\n",
       "    </tr>\n",
       "    <tr>\n",
       "      <th>331</th>\n",
       "      <td>8</td>\n",
       "      <td>21</td>\n",
       "      <td>41</td>\n",
       "      <td>16</td>\n",
       "      <td>16</td>\n",
       "    </tr>\n",
       "    <tr>\n",
       "      <th>332</th>\n",
       "      <td>32</td>\n",
       "      <td>6</td>\n",
       "      <td>35</td>\n",
       "      <td>2</td>\n",
       "      <td>47</td>\n",
       "    </tr>\n",
       "    <tr>\n",
       "      <th>333</th>\n",
       "      <td>46</td>\n",
       "      <td>7</td>\n",
       "      <td>4</td>\n",
       "      <td>39</td>\n",
       "      <td>15</td>\n",
       "    </tr>\n",
       "  </tbody>\n",
       "</table>\n",
       "<p>334 rows × 5 columns</p>\n",
       "</div>"
      ],
      "text/plain": [
       "       0   1   2   3   4\n",
       "0    654   8  46   7  42\n",
       "1     23  25  12  32  16\n",
       "2     19   7   2  21  40\n",
       "3     46  35  31  19  18\n",
       "4     39  42  29  34  49\n",
       "..   ...  ..  ..  ..  ..\n",
       "329    3  48  19  45   1\n",
       "330   24  10  19   1   3\n",
       "331    8  21  41  16  16\n",
       "332   32   6  35   2  47\n",
       "333   46   7   4  39  15\n",
       "\n",
       "[334 rows x 5 columns]"
      ]
     },
     "execution_count": 67,
     "metadata": {},
     "output_type": "execute_result"
    }
   ],
   "source": [
    "sortdf"
   ]
  },
  {
   "cell_type": "code",
   "execution_count": 68,
   "id": "da1e6e2c-b963-442e-9175-87af0ea1a7e9",
   "metadata": {},
   "outputs": [],
   "source": [
    "sortdf.columns=list(\"ABCDE\")"
   ]
  },
  {
   "cell_type": "code",
   "execution_count": 69,
   "id": "3868f32a-13d6-4c8e-a9d1-5dd01f41db50",
   "metadata": {},
   "outputs": [
    {
     "data": {
      "text/html": [
       "<div>\n",
       "<style scoped>\n",
       "    .dataframe tbody tr th:only-of-type {\n",
       "        vertical-align: middle;\n",
       "    }\n",
       "\n",
       "    .dataframe tbody tr th {\n",
       "        vertical-align: top;\n",
       "    }\n",
       "\n",
       "    .dataframe thead th {\n",
       "        text-align: right;\n",
       "    }\n",
       "</style>\n",
       "<table border=\"1\" class=\"dataframe\">\n",
       "  <thead>\n",
       "    <tr style=\"text-align: right;\">\n",
       "      <th></th>\n",
       "      <th>A</th>\n",
       "      <th>B</th>\n",
       "      <th>C</th>\n",
       "      <th>D</th>\n",
       "      <th>E</th>\n",
       "    </tr>\n",
       "  </thead>\n",
       "  <tbody>\n",
       "    <tr>\n",
       "      <th>0</th>\n",
       "      <td>654</td>\n",
       "      <td>8</td>\n",
       "      <td>46</td>\n",
       "      <td>7</td>\n",
       "      <td>42</td>\n",
       "    </tr>\n",
       "    <tr>\n",
       "      <th>1</th>\n",
       "      <td>23</td>\n",
       "      <td>25</td>\n",
       "      <td>12</td>\n",
       "      <td>32</td>\n",
       "      <td>16</td>\n",
       "    </tr>\n",
       "    <tr>\n",
       "      <th>2</th>\n",
       "      <td>19</td>\n",
       "      <td>7</td>\n",
       "      <td>2</td>\n",
       "      <td>21</td>\n",
       "      <td>40</td>\n",
       "    </tr>\n",
       "    <tr>\n",
       "      <th>3</th>\n",
       "      <td>46</td>\n",
       "      <td>35</td>\n",
       "      <td>31</td>\n",
       "      <td>19</td>\n",
       "      <td>18</td>\n",
       "    </tr>\n",
       "    <tr>\n",
       "      <th>4</th>\n",
       "      <td>39</td>\n",
       "      <td>42</td>\n",
       "      <td>29</td>\n",
       "      <td>34</td>\n",
       "      <td>49</td>\n",
       "    </tr>\n",
       "    <tr>\n",
       "      <th>...</th>\n",
       "      <td>...</td>\n",
       "      <td>...</td>\n",
       "      <td>...</td>\n",
       "      <td>...</td>\n",
       "      <td>...</td>\n",
       "    </tr>\n",
       "    <tr>\n",
       "      <th>329</th>\n",
       "      <td>3</td>\n",
       "      <td>48</td>\n",
       "      <td>19</td>\n",
       "      <td>45</td>\n",
       "      <td>1</td>\n",
       "    </tr>\n",
       "    <tr>\n",
       "      <th>330</th>\n",
       "      <td>24</td>\n",
       "      <td>10</td>\n",
       "      <td>19</td>\n",
       "      <td>1</td>\n",
       "      <td>3</td>\n",
       "    </tr>\n",
       "    <tr>\n",
       "      <th>331</th>\n",
       "      <td>8</td>\n",
       "      <td>21</td>\n",
       "      <td>41</td>\n",
       "      <td>16</td>\n",
       "      <td>16</td>\n",
       "    </tr>\n",
       "    <tr>\n",
       "      <th>332</th>\n",
       "      <td>32</td>\n",
       "      <td>6</td>\n",
       "      <td>35</td>\n",
       "      <td>2</td>\n",
       "      <td>47</td>\n",
       "    </tr>\n",
       "    <tr>\n",
       "      <th>333</th>\n",
       "      <td>46</td>\n",
       "      <td>7</td>\n",
       "      <td>4</td>\n",
       "      <td>39</td>\n",
       "      <td>15</td>\n",
       "    </tr>\n",
       "  </tbody>\n",
       "</table>\n",
       "<p>334 rows × 5 columns</p>\n",
       "</div>"
      ],
      "text/plain": [
       "       A   B   C   D   E\n",
       "0    654   8  46   7  42\n",
       "1     23  25  12  32  16\n",
       "2     19   7   2  21  40\n",
       "3     46  35  31  19  18\n",
       "4     39  42  29  34  49\n",
       "..   ...  ..  ..  ..  ..\n",
       "329    3  48  19  45   1\n",
       "330   24  10  19   1   3\n",
       "331    8  21  41  16  16\n",
       "332   32   6  35   2  47\n",
       "333   46   7   4  39  15\n",
       "\n",
       "[334 rows x 5 columns]"
      ]
     },
     "execution_count": 69,
     "metadata": {},
     "output_type": "execute_result"
    }
   ],
   "source": [
    "sortdf"
   ]
  },
  {
   "cell_type": "code",
   "execution_count": 71,
   "id": "0ab512e4-9156-45f2-ba14-429356782122",
   "metadata": {},
   "outputs": [],
   "source": [
    "sortdf.loc[0,'B']=774"
   ]
  },
  {
   "cell_type": "code",
   "execution_count": 72,
   "id": "e08801e7-fe56-47e8-a48f-871bf45976ab",
   "metadata": {},
   "outputs": [
    {
     "data": {
      "text/html": [
       "<div>\n",
       "<style scoped>\n",
       "    .dataframe tbody tr th:only-of-type {\n",
       "        vertical-align: middle;\n",
       "    }\n",
       "\n",
       "    .dataframe tbody tr th {\n",
       "        vertical-align: top;\n",
       "    }\n",
       "\n",
       "    .dataframe thead th {\n",
       "        text-align: right;\n",
       "    }\n",
       "</style>\n",
       "<table border=\"1\" class=\"dataframe\">\n",
       "  <thead>\n",
       "    <tr style=\"text-align: right;\">\n",
       "      <th></th>\n",
       "      <th>A</th>\n",
       "      <th>B</th>\n",
       "      <th>C</th>\n",
       "      <th>D</th>\n",
       "      <th>E</th>\n",
       "    </tr>\n",
       "  </thead>\n",
       "  <tbody>\n",
       "    <tr>\n",
       "      <th>0</th>\n",
       "      <td>654</td>\n",
       "      <td>774</td>\n",
       "      <td>46</td>\n",
       "      <td>7</td>\n",
       "      <td>42</td>\n",
       "    </tr>\n",
       "    <tr>\n",
       "      <th>1</th>\n",
       "      <td>23</td>\n",
       "      <td>25</td>\n",
       "      <td>12</td>\n",
       "      <td>32</td>\n",
       "      <td>16</td>\n",
       "    </tr>\n",
       "    <tr>\n",
       "      <th>2</th>\n",
       "      <td>19</td>\n",
       "      <td>7</td>\n",
       "      <td>2</td>\n",
       "      <td>21</td>\n",
       "      <td>40</td>\n",
       "    </tr>\n",
       "    <tr>\n",
       "      <th>3</th>\n",
       "      <td>46</td>\n",
       "      <td>35</td>\n",
       "      <td>31</td>\n",
       "      <td>19</td>\n",
       "      <td>18</td>\n",
       "    </tr>\n",
       "    <tr>\n",
       "      <th>4</th>\n",
       "      <td>39</td>\n",
       "      <td>42</td>\n",
       "      <td>29</td>\n",
       "      <td>34</td>\n",
       "      <td>49</td>\n",
       "    </tr>\n",
       "    <tr>\n",
       "      <th>...</th>\n",
       "      <td>...</td>\n",
       "      <td>...</td>\n",
       "      <td>...</td>\n",
       "      <td>...</td>\n",
       "      <td>...</td>\n",
       "    </tr>\n",
       "    <tr>\n",
       "      <th>329</th>\n",
       "      <td>3</td>\n",
       "      <td>48</td>\n",
       "      <td>19</td>\n",
       "      <td>45</td>\n",
       "      <td>1</td>\n",
       "    </tr>\n",
       "    <tr>\n",
       "      <th>330</th>\n",
       "      <td>24</td>\n",
       "      <td>10</td>\n",
       "      <td>19</td>\n",
       "      <td>1</td>\n",
       "      <td>3</td>\n",
       "    </tr>\n",
       "    <tr>\n",
       "      <th>331</th>\n",
       "      <td>8</td>\n",
       "      <td>21</td>\n",
       "      <td>41</td>\n",
       "      <td>16</td>\n",
       "      <td>16</td>\n",
       "    </tr>\n",
       "    <tr>\n",
       "      <th>332</th>\n",
       "      <td>32</td>\n",
       "      <td>6</td>\n",
       "      <td>35</td>\n",
       "      <td>2</td>\n",
       "      <td>47</td>\n",
       "    </tr>\n",
       "    <tr>\n",
       "      <th>333</th>\n",
       "      <td>46</td>\n",
       "      <td>7</td>\n",
       "      <td>4</td>\n",
       "      <td>39</td>\n",
       "      <td>15</td>\n",
       "    </tr>\n",
       "  </tbody>\n",
       "</table>\n",
       "<p>334 rows × 5 columns</p>\n",
       "</div>"
      ],
      "text/plain": [
       "       A    B   C   D   E\n",
       "0    654  774  46   7  42\n",
       "1     23   25  12  32  16\n",
       "2     19    7   2  21  40\n",
       "3     46   35  31  19  18\n",
       "4     39   42  29  34  49\n",
       "..   ...  ...  ..  ..  ..\n",
       "329    3   48  19  45   1\n",
       "330   24   10  19   1   3\n",
       "331    8   21  41  16  16\n",
       "332   32    6  35   2  47\n",
       "333   46    7   4  39  15\n",
       "\n",
       "[334 rows x 5 columns]"
      ]
     },
     "execution_count": 72,
     "metadata": {},
     "output_type": "execute_result"
    }
   ],
   "source": [
    "sortdf"
   ]
  },
  {
   "cell_type": "code",
   "execution_count": 78,
   "id": "2da8b2d9-16af-4739-ba01-c2962f28b23c",
   "metadata": {},
   "outputs": [
    {
     "data": {
      "text/html": [
       "<div>\n",
       "<style scoped>\n",
       "    .dataframe tbody tr th:only-of-type {\n",
       "        vertical-align: middle;\n",
       "    }\n",
       "\n",
       "    .dataframe tbody tr th {\n",
       "        vertical-align: top;\n",
       "    }\n",
       "\n",
       "    .dataframe thead th {\n",
       "        text-align: right;\n",
       "    }\n",
       "</style>\n",
       "<table border=\"1\" class=\"dataframe\">\n",
       "  <thead>\n",
       "    <tr style=\"text-align: right;\">\n",
       "      <th></th>\n",
       "      <th>A</th>\n",
       "      <th>B</th>\n",
       "      <th>C</th>\n",
       "      <th>D</th>\n",
       "      <th>E</th>\n",
       "    </tr>\n",
       "  </thead>\n",
       "  <tbody>\n",
       "    <tr>\n",
       "      <th>0</th>\n",
       "      <td>654</td>\n",
       "      <td>774</td>\n",
       "      <td>46</td>\n",
       "      <td>7</td>\n",
       "      <td>42</td>\n",
       "    </tr>\n",
       "    <tr>\n",
       "      <th>1</th>\n",
       "      <td>23</td>\n",
       "      <td>25</td>\n",
       "      <td>12</td>\n",
       "      <td>32</td>\n",
       "      <td>16</td>\n",
       "    </tr>\n",
       "    <tr>\n",
       "      <th>2</th>\n",
       "      <td>19</td>\n",
       "      <td>7</td>\n",
       "      <td>2</td>\n",
       "      <td>21</td>\n",
       "      <td>40</td>\n",
       "    </tr>\n",
       "    <tr>\n",
       "      <th>3</th>\n",
       "      <td>46</td>\n",
       "      <td>35</td>\n",
       "      <td>31</td>\n",
       "      <td>19</td>\n",
       "      <td>18</td>\n",
       "    </tr>\n",
       "    <tr>\n",
       "      <th>4</th>\n",
       "      <td>39</td>\n",
       "      <td>42</td>\n",
       "      <td>29</td>\n",
       "      <td>34</td>\n",
       "      <td>49</td>\n",
       "    </tr>\n",
       "    <tr>\n",
       "      <th>...</th>\n",
       "      <td>...</td>\n",
       "      <td>...</td>\n",
       "      <td>...</td>\n",
       "      <td>...</td>\n",
       "      <td>...</td>\n",
       "    </tr>\n",
       "    <tr>\n",
       "      <th>329</th>\n",
       "      <td>3</td>\n",
       "      <td>48</td>\n",
       "      <td>19</td>\n",
       "      <td>45</td>\n",
       "      <td>1</td>\n",
       "    </tr>\n",
       "    <tr>\n",
       "      <th>330</th>\n",
       "      <td>24</td>\n",
       "      <td>10</td>\n",
       "      <td>19</td>\n",
       "      <td>1</td>\n",
       "      <td>3</td>\n",
       "    </tr>\n",
       "    <tr>\n",
       "      <th>331</th>\n",
       "      <td>8</td>\n",
       "      <td>21</td>\n",
       "      <td>41</td>\n",
       "      <td>16</td>\n",
       "      <td>16</td>\n",
       "    </tr>\n",
       "    <tr>\n",
       "      <th>332</th>\n",
       "      <td>32</td>\n",
       "      <td>6</td>\n",
       "      <td>35</td>\n",
       "      <td>2</td>\n",
       "      <td>47</td>\n",
       "    </tr>\n",
       "    <tr>\n",
       "      <th>333</th>\n",
       "      <td>46</td>\n",
       "      <td>7</td>\n",
       "      <td>4</td>\n",
       "      <td>39</td>\n",
       "      <td>15</td>\n",
       "    </tr>\n",
       "  </tbody>\n",
       "</table>\n",
       "<p>334 rows × 5 columns</p>\n",
       "</div>"
      ],
      "text/plain": [
       "       A    B   C   D   E\n",
       "0    654  774  46   7  42\n",
       "1     23   25  12  32  16\n",
       "2     19    7   2  21  40\n",
       "3     46   35  31  19  18\n",
       "4     39   42  29  34  49\n",
       "..   ...  ...  ..  ..  ..\n",
       "329    3   48  19  45   1\n",
       "330   24   10  19   1   3\n",
       "331    8   21  41  16  16\n",
       "332   32    6  35   2  47\n",
       "333   46    7   4  39  15\n",
       "\n",
       "[334 rows x 5 columns]"
      ]
     },
     "execution_count": 78,
     "metadata": {},
     "output_type": "execute_result"
    }
   ],
   "source": [
    "sortdf.loc[:,:] # to see all the row and column values"
   ]
  },
  {
   "cell_type": "markdown",
   "id": "fe3718bd-2c24-42d8-a427-e09d619a96cb",
   "metadata": {},
   "source": [
    "### Single Condition"
   ]
  },
  {
   "cell_type": "code",
   "execution_count": 92,
   "id": "b9af88a2-ef80-4ed2-a9c8-62504bb5b89a",
   "metadata": {},
   "outputs": [
    {
     "data": {
      "text/html": [
       "<div>\n",
       "<style scoped>\n",
       "    .dataframe tbody tr th:only-of-type {\n",
       "        vertical-align: middle;\n",
       "    }\n",
       "\n",
       "    .dataframe tbody tr th {\n",
       "        vertical-align: top;\n",
       "    }\n",
       "\n",
       "    .dataframe thead th {\n",
       "        text-align: right;\n",
       "    }\n",
       "</style>\n",
       "<table border=\"1\" class=\"dataframe\">\n",
       "  <thead>\n",
       "    <tr style=\"text-align: right;\">\n",
       "      <th></th>\n",
       "      <th>A</th>\n",
       "      <th>B</th>\n",
       "      <th>C</th>\n",
       "      <th>D</th>\n",
       "      <th>E</th>\n",
       "    </tr>\n",
       "  </thead>\n",
       "  <tbody>\n",
       "    <tr>\n",
       "      <th>0</th>\n",
       "      <td>654</td>\n",
       "      <td>774</td>\n",
       "      <td>46</td>\n",
       "      <td>7</td>\n",
       "      <td>42</td>\n",
       "    </tr>\n",
       "    <tr>\n",
       "      <th>11</th>\n",
       "      <td>49</td>\n",
       "      <td>19</td>\n",
       "      <td>11</td>\n",
       "      <td>11</td>\n",
       "      <td>6</td>\n",
       "    </tr>\n",
       "    <tr>\n",
       "      <th>34</th>\n",
       "      <td>49</td>\n",
       "      <td>22</td>\n",
       "      <td>13</td>\n",
       "      <td>13</td>\n",
       "      <td>34</td>\n",
       "    </tr>\n",
       "    <tr>\n",
       "      <th>137</th>\n",
       "      <td>49</td>\n",
       "      <td>41</td>\n",
       "      <td>44</td>\n",
       "      <td>48</td>\n",
       "      <td>28</td>\n",
       "    </tr>\n",
       "    <tr>\n",
       "      <th>159</th>\n",
       "      <td>49</td>\n",
       "      <td>23</td>\n",
       "      <td>33</td>\n",
       "      <td>6</td>\n",
       "      <td>12</td>\n",
       "    </tr>\n",
       "    <tr>\n",
       "      <th>299</th>\n",
       "      <td>49</td>\n",
       "      <td>10</td>\n",
       "      <td>32</td>\n",
       "      <td>11</td>\n",
       "      <td>0</td>\n",
       "    </tr>\n",
       "    <tr>\n",
       "      <th>302</th>\n",
       "      <td>49</td>\n",
       "      <td>47</td>\n",
       "      <td>20</td>\n",
       "      <td>30</td>\n",
       "      <td>47</td>\n",
       "    </tr>\n",
       "  </tbody>\n",
       "</table>\n",
       "</div>"
      ],
      "text/plain": [
       "       A    B   C   D   E\n",
       "0    654  774  46   7  42\n",
       "11    49   19  11  11   6\n",
       "34    49   22  13  13  34\n",
       "137   49   41  44  48  28\n",
       "159   49   23  33   6  12\n",
       "299   49   10  32  11   0\n",
       "302   49   47  20  30  47"
      ]
     },
     "execution_count": 92,
     "metadata": {},
     "output_type": "execute_result"
    }
   ],
   "source": [
    "sortdf.loc[(sortdf['A']>48)]"
   ]
  },
  {
   "cell_type": "markdown",
   "id": "176c629a-3e00-4f74-a7f1-61dc6cf55619",
   "metadata": {},
   "source": [
    "### Multiple Condition"
   ]
  },
  {
   "cell_type": "code",
   "execution_count": 95,
   "id": "72a864fb-5ac8-4e09-9d11-a03052beeabf",
   "metadata": {},
   "outputs": [
    {
     "data": {
      "text/html": [
       "<div>\n",
       "<style scoped>\n",
       "    .dataframe tbody tr th:only-of-type {\n",
       "        vertical-align: middle;\n",
       "    }\n",
       "\n",
       "    .dataframe tbody tr th {\n",
       "        vertical-align: top;\n",
       "    }\n",
       "\n",
       "    .dataframe thead th {\n",
       "        text-align: right;\n",
       "    }\n",
       "</style>\n",
       "<table border=\"1\" class=\"dataframe\">\n",
       "  <thead>\n",
       "    <tr style=\"text-align: right;\">\n",
       "      <th></th>\n",
       "      <th>A</th>\n",
       "      <th>B</th>\n",
       "      <th>C</th>\n",
       "      <th>D</th>\n",
       "      <th>E</th>\n",
       "    </tr>\n",
       "  </thead>\n",
       "  <tbody>\n",
       "    <tr>\n",
       "      <th>0</th>\n",
       "      <td>654</td>\n",
       "      <td>774</td>\n",
       "      <td>46</td>\n",
       "      <td>7</td>\n",
       "      <td>42</td>\n",
       "    </tr>\n",
       "    <tr>\n",
       "      <th>137</th>\n",
       "      <td>49</td>\n",
       "      <td>41</td>\n",
       "      <td>44</td>\n",
       "      <td>48</td>\n",
       "      <td>28</td>\n",
       "    </tr>\n",
       "  </tbody>\n",
       "</table>\n",
       "</div>"
      ],
      "text/plain": [
       "       A    B   C   D   E\n",
       "0    654  774  46   7  42\n",
       "137   49   41  44  48  28"
      ]
     },
     "execution_count": 95,
     "metadata": {},
     "output_type": "execute_result"
    }
   ],
   "source": [
    "sortdf.loc[(sortdf['A']>48) & (sortdf['C']>40)] "
   ]
  },
  {
   "cell_type": "markdown",
   "id": "16ad5e4a-28ab-44b0-93ca-15a48e216f06",
   "metadata": {},
   "source": [
    "### iloc"
   ]
  },
  {
   "cell_type": "code",
   "execution_count": 107,
   "id": "6dd66dc4-233e-4f99-b0ab-49ee822954a7",
   "metadata": {},
   "outputs": [
    {
     "data": {
      "text/plain": [
       "np.int32(42)"
      ]
     },
     "execution_count": 107,
     "metadata": {},
     "output_type": "execute_result"
    }
   ],
   "source": [
    "sortdf.iloc[0,4]"
   ]
  },
  {
   "cell_type": "code",
   "execution_count": 108,
   "id": "f5662d51-7c32-46dd-852b-40e9faf6977e",
   "metadata": {},
   "outputs": [
    {
     "data": {
      "text/html": [
       "<div>\n",
       "<style scoped>\n",
       "    .dataframe tbody tr th:only-of-type {\n",
       "        vertical-align: middle;\n",
       "    }\n",
       "\n",
       "    .dataframe tbody tr th {\n",
       "        vertical-align: top;\n",
       "    }\n",
       "\n",
       "    .dataframe thead th {\n",
       "        text-align: right;\n",
       "    }\n",
       "</style>\n",
       "<table border=\"1\" class=\"dataframe\">\n",
       "  <thead>\n",
       "    <tr style=\"text-align: right;\">\n",
       "      <th></th>\n",
       "      <th>0</th>\n",
       "      <th>2</th>\n",
       "    </tr>\n",
       "  </thead>\n",
       "  <tbody>\n",
       "    <tr>\n",
       "      <th>0</th>\n",
       "      <td>0.261221</td>\n",
       "      <td>0.293431</td>\n",
       "    </tr>\n",
       "    <tr>\n",
       "      <th>225</th>\n",
       "      <td>0.755377</td>\n",
       "      <td>0.466120</td>\n",
       "    </tr>\n",
       "  </tbody>\n",
       "</table>\n",
       "</div>"
      ],
      "text/plain": [
       "            0         2\n",
       "0    0.261221  0.293431\n",
       "225  0.755377  0.466120"
      ]
     },
     "execution_count": 108,
     "metadata": {},
     "output_type": "execute_result"
    }
   ],
   "source": [
    "newdf.iloc[[0,225],[0,2]]"
   ]
  },
  {
   "cell_type": "markdown",
   "id": "fdba8032-99cc-4b9e-a4ca-3f81704fed0f",
   "metadata": {},
   "source": [
    "| Feature                | `.loc`                                                             | `.iloc`                                                                 |\n",
    "| ---------------------- | ------------------------------------------------------------------ | ----------------------------------------------------------------------- |\n",
    "| **Type of indexing**   | **Label-based** → You select rows/columns by their names (labels). | **Integer-based** → You select rows/columns by their integer positions. |\n",
    "| **Inclusive behavior** | Both start and end labels are **inclusive** when slicing.          | The end index is **exclusive** when slicing (like Python list slicing). |\n",
    "| **Accepts**            | Row/column labels, boolean arrays, slices with labels.             | Row/column integer positions, boolean arrays, slices with integers.     |\n",
    "| **Errors**             | Throws `KeyError` if label is not found.                           | Throws `IndexError` if index is out of range.                           |\n"
   ]
  },
  {
   "cell_type": "markdown",
   "id": "b5af8c07-acca-41dc-93e9-e841643d3b09",
   "metadata": {},
   "source": [
    "### drop"
   ]
  },
  {
   "cell_type": "markdown",
   "id": "ec9dae6b-84e1-4553-98fc-407a0f5f68a8",
   "metadata": {},
   "source": [
    "### row"
   ]
  },
  {
   "cell_type": "code",
   "execution_count": 109,
   "id": "7a1c6945-5e5e-4560-95cf-a5d7fc674725",
   "metadata": {},
   "outputs": [
    {
     "data": {
      "text/html": [
       "<div>\n",
       "<style scoped>\n",
       "    .dataframe tbody tr th:only-of-type {\n",
       "        vertical-align: middle;\n",
       "    }\n",
       "\n",
       "    .dataframe tbody tr th {\n",
       "        vertical-align: top;\n",
       "    }\n",
       "\n",
       "    .dataframe thead th {\n",
       "        text-align: right;\n",
       "    }\n",
       "</style>\n",
       "<table border=\"1\" class=\"dataframe\">\n",
       "  <thead>\n",
       "    <tr style=\"text-align: right;\">\n",
       "      <th></th>\n",
       "      <th>A</th>\n",
       "      <th>B</th>\n",
       "      <th>C</th>\n",
       "      <th>D</th>\n",
       "      <th>E</th>\n",
       "    </tr>\n",
       "  </thead>\n",
       "  <tbody>\n",
       "    <tr>\n",
       "      <th>0</th>\n",
       "      <td>654</td>\n",
       "      <td>774</td>\n",
       "      <td>46</td>\n",
       "      <td>7</td>\n",
       "      <td>42</td>\n",
       "    </tr>\n",
       "    <tr>\n",
       "      <th>1</th>\n",
       "      <td>23</td>\n",
       "      <td>25</td>\n",
       "      <td>12</td>\n",
       "      <td>32</td>\n",
       "      <td>16</td>\n",
       "    </tr>\n",
       "    <tr>\n",
       "      <th>3</th>\n",
       "      <td>46</td>\n",
       "      <td>35</td>\n",
       "      <td>31</td>\n",
       "      <td>19</td>\n",
       "      <td>18</td>\n",
       "    </tr>\n",
       "    <tr>\n",
       "      <th>4</th>\n",
       "      <td>39</td>\n",
       "      <td>42</td>\n",
       "      <td>29</td>\n",
       "      <td>34</td>\n",
       "      <td>49</td>\n",
       "    </tr>\n",
       "    <tr>\n",
       "      <th>5</th>\n",
       "      <td>12</td>\n",
       "      <td>24</td>\n",
       "      <td>7</td>\n",
       "      <td>14</td>\n",
       "      <td>22</td>\n",
       "    </tr>\n",
       "    <tr>\n",
       "      <th>...</th>\n",
       "      <td>...</td>\n",
       "      <td>...</td>\n",
       "      <td>...</td>\n",
       "      <td>...</td>\n",
       "      <td>...</td>\n",
       "    </tr>\n",
       "    <tr>\n",
       "      <th>329</th>\n",
       "      <td>3</td>\n",
       "      <td>48</td>\n",
       "      <td>19</td>\n",
       "      <td>45</td>\n",
       "      <td>1</td>\n",
       "    </tr>\n",
       "    <tr>\n",
       "      <th>330</th>\n",
       "      <td>24</td>\n",
       "      <td>10</td>\n",
       "      <td>19</td>\n",
       "      <td>1</td>\n",
       "      <td>3</td>\n",
       "    </tr>\n",
       "    <tr>\n",
       "      <th>331</th>\n",
       "      <td>8</td>\n",
       "      <td>21</td>\n",
       "      <td>41</td>\n",
       "      <td>16</td>\n",
       "      <td>16</td>\n",
       "    </tr>\n",
       "    <tr>\n",
       "      <th>332</th>\n",
       "      <td>32</td>\n",
       "      <td>6</td>\n",
       "      <td>35</td>\n",
       "      <td>2</td>\n",
       "      <td>47</td>\n",
       "    </tr>\n",
       "    <tr>\n",
       "      <th>333</th>\n",
       "      <td>46</td>\n",
       "      <td>7</td>\n",
       "      <td>4</td>\n",
       "      <td>39</td>\n",
       "      <td>15</td>\n",
       "    </tr>\n",
       "  </tbody>\n",
       "</table>\n",
       "<p>333 rows × 5 columns</p>\n",
       "</div>"
      ],
      "text/plain": [
       "       A    B   C   D   E\n",
       "0    654  774  46   7  42\n",
       "1     23   25  12  32  16\n",
       "3     46   35  31  19  18\n",
       "4     39   42  29  34  49\n",
       "5     12   24   7  14  22\n",
       "..   ...  ...  ..  ..  ..\n",
       "329    3   48  19  45   1\n",
       "330   24   10  19   1   3\n",
       "331    8   21  41  16  16\n",
       "332   32    6  35   2  47\n",
       "333   46    7   4  39  15\n",
       "\n",
       "[333 rows x 5 columns]"
      ]
     },
     "execution_count": 109,
     "metadata": {},
     "output_type": "execute_result"
    }
   ],
   "source": [
    "sortdf.drop(2)"
   ]
  },
  {
   "cell_type": "markdown",
   "id": "f7c93fdc-f1b7-4e82-9130-26ec9c6343ec",
   "metadata": {},
   "source": [
    "### column"
   ]
  },
  {
   "cell_type": "code",
   "execution_count": 111,
   "id": "a8ba4b30-bfff-4d85-9cbb-c9ea7b206206",
   "metadata": {},
   "outputs": [
    {
     "data": {
      "text/html": [
       "<div>\n",
       "<style scoped>\n",
       "    .dataframe tbody tr th:only-of-type {\n",
       "        vertical-align: middle;\n",
       "    }\n",
       "\n",
       "    .dataframe tbody tr th {\n",
       "        vertical-align: top;\n",
       "    }\n",
       "\n",
       "    .dataframe thead th {\n",
       "        text-align: right;\n",
       "    }\n",
       "</style>\n",
       "<table border=\"1\" class=\"dataframe\">\n",
       "  <thead>\n",
       "    <tr style=\"text-align: right;\">\n",
       "      <th></th>\n",
       "      <th>A</th>\n",
       "      <th>B</th>\n",
       "      <th>C</th>\n",
       "      <th>D</th>\n",
       "    </tr>\n",
       "  </thead>\n",
       "  <tbody>\n",
       "    <tr>\n",
       "      <th>0</th>\n",
       "      <td>654</td>\n",
       "      <td>774</td>\n",
       "      <td>46</td>\n",
       "      <td>7</td>\n",
       "    </tr>\n",
       "    <tr>\n",
       "      <th>1</th>\n",
       "      <td>23</td>\n",
       "      <td>25</td>\n",
       "      <td>12</td>\n",
       "      <td>32</td>\n",
       "    </tr>\n",
       "    <tr>\n",
       "      <th>2</th>\n",
       "      <td>19</td>\n",
       "      <td>7</td>\n",
       "      <td>2</td>\n",
       "      <td>21</td>\n",
       "    </tr>\n",
       "    <tr>\n",
       "      <th>3</th>\n",
       "      <td>46</td>\n",
       "      <td>35</td>\n",
       "      <td>31</td>\n",
       "      <td>19</td>\n",
       "    </tr>\n",
       "    <tr>\n",
       "      <th>4</th>\n",
       "      <td>39</td>\n",
       "      <td>42</td>\n",
       "      <td>29</td>\n",
       "      <td>34</td>\n",
       "    </tr>\n",
       "    <tr>\n",
       "      <th>...</th>\n",
       "      <td>...</td>\n",
       "      <td>...</td>\n",
       "      <td>...</td>\n",
       "      <td>...</td>\n",
       "    </tr>\n",
       "    <tr>\n",
       "      <th>329</th>\n",
       "      <td>3</td>\n",
       "      <td>48</td>\n",
       "      <td>19</td>\n",
       "      <td>45</td>\n",
       "    </tr>\n",
       "    <tr>\n",
       "      <th>330</th>\n",
       "      <td>24</td>\n",
       "      <td>10</td>\n",
       "      <td>19</td>\n",
       "      <td>1</td>\n",
       "    </tr>\n",
       "    <tr>\n",
       "      <th>331</th>\n",
       "      <td>8</td>\n",
       "      <td>21</td>\n",
       "      <td>41</td>\n",
       "      <td>16</td>\n",
       "    </tr>\n",
       "    <tr>\n",
       "      <th>332</th>\n",
       "      <td>32</td>\n",
       "      <td>6</td>\n",
       "      <td>35</td>\n",
       "      <td>2</td>\n",
       "    </tr>\n",
       "    <tr>\n",
       "      <th>333</th>\n",
       "      <td>46</td>\n",
       "      <td>7</td>\n",
       "      <td>4</td>\n",
       "      <td>39</td>\n",
       "    </tr>\n",
       "  </tbody>\n",
       "</table>\n",
       "<p>334 rows × 4 columns</p>\n",
       "</div>"
      ],
      "text/plain": [
       "       A    B   C   D\n",
       "0    654  774  46   7\n",
       "1     23   25  12  32\n",
       "2     19    7   2  21\n",
       "3     46   35  31  19\n",
       "4     39   42  29  34\n",
       "..   ...  ...  ..  ..\n",
       "329    3   48  19  45\n",
       "330   24   10  19   1\n",
       "331    8   21  41  16\n",
       "332   32    6  35   2\n",
       "333   46    7   4  39\n",
       "\n",
       "[334 rows x 4 columns]"
      ]
     },
     "execution_count": 111,
     "metadata": {},
     "output_type": "execute_result"
    }
   ],
   "source": [
    "sortdf.drop(['E'],axis=1)"
   ]
  },
  {
   "cell_type": "markdown",
   "id": "5fc48476-803a-454e-a217-96b758307c57",
   "metadata": {},
   "source": [
    "### Permanently Drop Column"
   ]
  },
  {
   "cell_type": "code",
   "execution_count": 115,
   "id": "8f7186e3-353a-422c-afcb-6462dcb69eff",
   "metadata": {},
   "outputs": [],
   "source": [
    "sortdf.drop(['D'],axis=1,inplace=True) "
   ]
  },
  {
   "cell_type": "code",
   "execution_count": 116,
   "id": "2fd8ab7f-7ad1-4dba-bc3d-4c01ce2e4730",
   "metadata": {},
   "outputs": [
    {
     "data": {
      "text/html": [
       "<div>\n",
       "<style scoped>\n",
       "    .dataframe tbody tr th:only-of-type {\n",
       "        vertical-align: middle;\n",
       "    }\n",
       "\n",
       "    .dataframe tbody tr th {\n",
       "        vertical-align: top;\n",
       "    }\n",
       "\n",
       "    .dataframe thead th {\n",
       "        text-align: right;\n",
       "    }\n",
       "</style>\n",
       "<table border=\"1\" class=\"dataframe\">\n",
       "  <thead>\n",
       "    <tr style=\"text-align: right;\">\n",
       "      <th></th>\n",
       "      <th>A</th>\n",
       "      <th>B</th>\n",
       "      <th>C</th>\n",
       "      <th>E</th>\n",
       "    </tr>\n",
       "  </thead>\n",
       "  <tbody>\n",
       "    <tr>\n",
       "      <th>0</th>\n",
       "      <td>654</td>\n",
       "      <td>774</td>\n",
       "      <td>46</td>\n",
       "      <td>42</td>\n",
       "    </tr>\n",
       "    <tr>\n",
       "      <th>1</th>\n",
       "      <td>23</td>\n",
       "      <td>25</td>\n",
       "      <td>12</td>\n",
       "      <td>16</td>\n",
       "    </tr>\n",
       "    <tr>\n",
       "      <th>2</th>\n",
       "      <td>19</td>\n",
       "      <td>7</td>\n",
       "      <td>2</td>\n",
       "      <td>40</td>\n",
       "    </tr>\n",
       "    <tr>\n",
       "      <th>3</th>\n",
       "      <td>46</td>\n",
       "      <td>35</td>\n",
       "      <td>31</td>\n",
       "      <td>18</td>\n",
       "    </tr>\n",
       "    <tr>\n",
       "      <th>4</th>\n",
       "      <td>39</td>\n",
       "      <td>42</td>\n",
       "      <td>29</td>\n",
       "      <td>49</td>\n",
       "    </tr>\n",
       "    <tr>\n",
       "      <th>...</th>\n",
       "      <td>...</td>\n",
       "      <td>...</td>\n",
       "      <td>...</td>\n",
       "      <td>...</td>\n",
       "    </tr>\n",
       "    <tr>\n",
       "      <th>329</th>\n",
       "      <td>3</td>\n",
       "      <td>48</td>\n",
       "      <td>19</td>\n",
       "      <td>1</td>\n",
       "    </tr>\n",
       "    <tr>\n",
       "      <th>330</th>\n",
       "      <td>24</td>\n",
       "      <td>10</td>\n",
       "      <td>19</td>\n",
       "      <td>3</td>\n",
       "    </tr>\n",
       "    <tr>\n",
       "      <th>331</th>\n",
       "      <td>8</td>\n",
       "      <td>21</td>\n",
       "      <td>41</td>\n",
       "      <td>16</td>\n",
       "    </tr>\n",
       "    <tr>\n",
       "      <th>332</th>\n",
       "      <td>32</td>\n",
       "      <td>6</td>\n",
       "      <td>35</td>\n",
       "      <td>47</td>\n",
       "    </tr>\n",
       "    <tr>\n",
       "      <th>333</th>\n",
       "      <td>46</td>\n",
       "      <td>7</td>\n",
       "      <td>4</td>\n",
       "      <td>15</td>\n",
       "    </tr>\n",
       "  </tbody>\n",
       "</table>\n",
       "<p>334 rows × 4 columns</p>\n",
       "</div>"
      ],
      "text/plain": [
       "       A    B   C   E\n",
       "0    654  774  46  42\n",
       "1     23   25  12  16\n",
       "2     19    7   2  40\n",
       "3     46   35  31  18\n",
       "4     39   42  29  49\n",
       "..   ...  ...  ..  ..\n",
       "329    3   48  19   1\n",
       "330   24   10  19   3\n",
       "331    8   21  41  16\n",
       "332   32    6  35  47\n",
       "333   46    7   4  15\n",
       "\n",
       "[334 rows x 4 columns]"
      ]
     },
     "execution_count": 116,
     "metadata": {},
     "output_type": "execute_result"
    }
   ],
   "source": [
    "sortdf"
   ]
  },
  {
   "cell_type": "markdown",
   "id": "2cdce0f0-012c-494a-b904-f15ee4d463de",
   "metadata": {},
   "source": [
    "### Permanently Drop Row"
   ]
  },
  {
   "cell_type": "code",
   "execution_count": 118,
   "id": "1b47325c-b2aa-441e-8e5a-ca833422d207",
   "metadata": {},
   "outputs": [],
   "source": [
    "sortdf.drop([2,3],axis=0,inplace=True) "
   ]
  },
  {
   "cell_type": "code",
   "execution_count": 119,
   "id": "e56c5b7c-da1c-4af0-915f-3d517e26c240",
   "metadata": {},
   "outputs": [
    {
     "data": {
      "text/html": [
       "<div>\n",
       "<style scoped>\n",
       "    .dataframe tbody tr th:only-of-type {\n",
       "        vertical-align: middle;\n",
       "    }\n",
       "\n",
       "    .dataframe tbody tr th {\n",
       "        vertical-align: top;\n",
       "    }\n",
       "\n",
       "    .dataframe thead th {\n",
       "        text-align: right;\n",
       "    }\n",
       "</style>\n",
       "<table border=\"1\" class=\"dataframe\">\n",
       "  <thead>\n",
       "    <tr style=\"text-align: right;\">\n",
       "      <th></th>\n",
       "      <th>A</th>\n",
       "      <th>B</th>\n",
       "      <th>C</th>\n",
       "      <th>E</th>\n",
       "    </tr>\n",
       "  </thead>\n",
       "  <tbody>\n",
       "    <tr>\n",
       "      <th>0</th>\n",
       "      <td>654</td>\n",
       "      <td>774</td>\n",
       "      <td>46</td>\n",
       "      <td>42</td>\n",
       "    </tr>\n",
       "    <tr>\n",
       "      <th>1</th>\n",
       "      <td>23</td>\n",
       "      <td>25</td>\n",
       "      <td>12</td>\n",
       "      <td>16</td>\n",
       "    </tr>\n",
       "    <tr>\n",
       "      <th>4</th>\n",
       "      <td>39</td>\n",
       "      <td>42</td>\n",
       "      <td>29</td>\n",
       "      <td>49</td>\n",
       "    </tr>\n",
       "    <tr>\n",
       "      <th>5</th>\n",
       "      <td>12</td>\n",
       "      <td>24</td>\n",
       "      <td>7</td>\n",
       "      <td>22</td>\n",
       "    </tr>\n",
       "    <tr>\n",
       "      <th>6</th>\n",
       "      <td>42</td>\n",
       "      <td>49</td>\n",
       "      <td>31</td>\n",
       "      <td>36</td>\n",
       "    </tr>\n",
       "    <tr>\n",
       "      <th>...</th>\n",
       "      <td>...</td>\n",
       "      <td>...</td>\n",
       "      <td>...</td>\n",
       "      <td>...</td>\n",
       "    </tr>\n",
       "    <tr>\n",
       "      <th>329</th>\n",
       "      <td>3</td>\n",
       "      <td>48</td>\n",
       "      <td>19</td>\n",
       "      <td>1</td>\n",
       "    </tr>\n",
       "    <tr>\n",
       "      <th>330</th>\n",
       "      <td>24</td>\n",
       "      <td>10</td>\n",
       "      <td>19</td>\n",
       "      <td>3</td>\n",
       "    </tr>\n",
       "    <tr>\n",
       "      <th>331</th>\n",
       "      <td>8</td>\n",
       "      <td>21</td>\n",
       "      <td>41</td>\n",
       "      <td>16</td>\n",
       "    </tr>\n",
       "    <tr>\n",
       "      <th>332</th>\n",
       "      <td>32</td>\n",
       "      <td>6</td>\n",
       "      <td>35</td>\n",
       "      <td>47</td>\n",
       "    </tr>\n",
       "    <tr>\n",
       "      <th>333</th>\n",
       "      <td>46</td>\n",
       "      <td>7</td>\n",
       "      <td>4</td>\n",
       "      <td>15</td>\n",
       "    </tr>\n",
       "  </tbody>\n",
       "</table>\n",
       "<p>332 rows × 4 columns</p>\n",
       "</div>"
      ],
      "text/plain": [
       "       A    B   C   E\n",
       "0    654  774  46  42\n",
       "1     23   25  12  16\n",
       "4     39   42  29  49\n",
       "5     12   24   7  22\n",
       "6     42   49  31  36\n",
       "..   ...  ...  ..  ..\n",
       "329    3   48  19   1\n",
       "330   24   10  19   3\n",
       "331    8   21  41  16\n",
       "332   32    6  35  47\n",
       "333   46    7   4  15\n",
       "\n",
       "[332 rows x 4 columns]"
      ]
     },
     "execution_count": 119,
     "metadata": {},
     "output_type": "execute_result"
    }
   ],
   "source": [
    "sortdf"
   ]
  },
  {
   "cell_type": "markdown",
   "id": "1fe34a9d-fb18-4f67-9080-be09d07c1b62",
   "metadata": {},
   "source": [
    "### Reset Rows"
   ]
  },
  {
   "cell_type": "code",
   "execution_count": 121,
   "id": "05e87d1e-deee-4ba3-8f42-22d0daa6540e",
   "metadata": {},
   "outputs": [
    {
     "data": {
      "text/html": [
       "<div>\n",
       "<style scoped>\n",
       "    .dataframe tbody tr th:only-of-type {\n",
       "        vertical-align: middle;\n",
       "    }\n",
       "\n",
       "    .dataframe tbody tr th {\n",
       "        vertical-align: top;\n",
       "    }\n",
       "\n",
       "    .dataframe thead th {\n",
       "        text-align: right;\n",
       "    }\n",
       "</style>\n",
       "<table border=\"1\" class=\"dataframe\">\n",
       "  <thead>\n",
       "    <tr style=\"text-align: right;\">\n",
       "      <th></th>\n",
       "      <th>index</th>\n",
       "      <th>A</th>\n",
       "      <th>B</th>\n",
       "      <th>C</th>\n",
       "      <th>E</th>\n",
       "    </tr>\n",
       "  </thead>\n",
       "  <tbody>\n",
       "    <tr>\n",
       "      <th>0</th>\n",
       "      <td>0</td>\n",
       "      <td>654</td>\n",
       "      <td>774</td>\n",
       "      <td>46</td>\n",
       "      <td>42</td>\n",
       "    </tr>\n",
       "    <tr>\n",
       "      <th>1</th>\n",
       "      <td>1</td>\n",
       "      <td>23</td>\n",
       "      <td>25</td>\n",
       "      <td>12</td>\n",
       "      <td>16</td>\n",
       "    </tr>\n",
       "    <tr>\n",
       "      <th>2</th>\n",
       "      <td>4</td>\n",
       "      <td>39</td>\n",
       "      <td>42</td>\n",
       "      <td>29</td>\n",
       "      <td>49</td>\n",
       "    </tr>\n",
       "    <tr>\n",
       "      <th>3</th>\n",
       "      <td>5</td>\n",
       "      <td>12</td>\n",
       "      <td>24</td>\n",
       "      <td>7</td>\n",
       "      <td>22</td>\n",
       "    </tr>\n",
       "    <tr>\n",
       "      <th>4</th>\n",
       "      <td>6</td>\n",
       "      <td>42</td>\n",
       "      <td>49</td>\n",
       "      <td>31</td>\n",
       "      <td>36</td>\n",
       "    </tr>\n",
       "    <tr>\n",
       "      <th>...</th>\n",
       "      <td>...</td>\n",
       "      <td>...</td>\n",
       "      <td>...</td>\n",
       "      <td>...</td>\n",
       "      <td>...</td>\n",
       "    </tr>\n",
       "    <tr>\n",
       "      <th>327</th>\n",
       "      <td>329</td>\n",
       "      <td>3</td>\n",
       "      <td>48</td>\n",
       "      <td>19</td>\n",
       "      <td>1</td>\n",
       "    </tr>\n",
       "    <tr>\n",
       "      <th>328</th>\n",
       "      <td>330</td>\n",
       "      <td>24</td>\n",
       "      <td>10</td>\n",
       "      <td>19</td>\n",
       "      <td>3</td>\n",
       "    </tr>\n",
       "    <tr>\n",
       "      <th>329</th>\n",
       "      <td>331</td>\n",
       "      <td>8</td>\n",
       "      <td>21</td>\n",
       "      <td>41</td>\n",
       "      <td>16</td>\n",
       "    </tr>\n",
       "    <tr>\n",
       "      <th>330</th>\n",
       "      <td>332</td>\n",
       "      <td>32</td>\n",
       "      <td>6</td>\n",
       "      <td>35</td>\n",
       "      <td>47</td>\n",
       "    </tr>\n",
       "    <tr>\n",
       "      <th>331</th>\n",
       "      <td>333</td>\n",
       "      <td>46</td>\n",
       "      <td>7</td>\n",
       "      <td>4</td>\n",
       "      <td>15</td>\n",
       "    </tr>\n",
       "  </tbody>\n",
       "</table>\n",
       "<p>332 rows × 5 columns</p>\n",
       "</div>"
      ],
      "text/plain": [
       "     index    A    B   C   E\n",
       "0        0  654  774  46  42\n",
       "1        1   23   25  12  16\n",
       "2        4   39   42  29  49\n",
       "3        5   12   24   7  22\n",
       "4        6   42   49  31  36\n",
       "..     ...  ...  ...  ..  ..\n",
       "327    329    3   48  19   1\n",
       "328    330   24   10  19   3\n",
       "329    331    8   21  41  16\n",
       "330    332   32    6  35  47\n",
       "331    333   46    7   4  15\n",
       "\n",
       "[332 rows x 5 columns]"
      ]
     },
     "execution_count": 121,
     "metadata": {},
     "output_type": "execute_result"
    }
   ],
   "source": [
    "sortdf.reset_index() #adds an extra index"
   ]
  },
  {
   "cell_type": "code",
   "execution_count": 123,
   "id": "1772a2ac-cad1-4dd5-bfc8-0824b4052bbf",
   "metadata": {},
   "outputs": [
    {
     "data": {
      "text/html": [
       "<div>\n",
       "<style scoped>\n",
       "    .dataframe tbody tr th:only-of-type {\n",
       "        vertical-align: middle;\n",
       "    }\n",
       "\n",
       "    .dataframe tbody tr th {\n",
       "        vertical-align: top;\n",
       "    }\n",
       "\n",
       "    .dataframe thead th {\n",
       "        text-align: right;\n",
       "    }\n",
       "</style>\n",
       "<table border=\"1\" class=\"dataframe\">\n",
       "  <thead>\n",
       "    <tr style=\"text-align: right;\">\n",
       "      <th></th>\n",
       "      <th>A</th>\n",
       "      <th>B</th>\n",
       "      <th>C</th>\n",
       "      <th>E</th>\n",
       "    </tr>\n",
       "  </thead>\n",
       "  <tbody>\n",
       "    <tr>\n",
       "      <th>0</th>\n",
       "      <td>654</td>\n",
       "      <td>774</td>\n",
       "      <td>46</td>\n",
       "      <td>42</td>\n",
       "    </tr>\n",
       "    <tr>\n",
       "      <th>1</th>\n",
       "      <td>23</td>\n",
       "      <td>25</td>\n",
       "      <td>12</td>\n",
       "      <td>16</td>\n",
       "    </tr>\n",
       "    <tr>\n",
       "      <th>2</th>\n",
       "      <td>39</td>\n",
       "      <td>42</td>\n",
       "      <td>29</td>\n",
       "      <td>49</td>\n",
       "    </tr>\n",
       "    <tr>\n",
       "      <th>3</th>\n",
       "      <td>12</td>\n",
       "      <td>24</td>\n",
       "      <td>7</td>\n",
       "      <td>22</td>\n",
       "    </tr>\n",
       "    <tr>\n",
       "      <th>4</th>\n",
       "      <td>42</td>\n",
       "      <td>49</td>\n",
       "      <td>31</td>\n",
       "      <td>36</td>\n",
       "    </tr>\n",
       "    <tr>\n",
       "      <th>...</th>\n",
       "      <td>...</td>\n",
       "      <td>...</td>\n",
       "      <td>...</td>\n",
       "      <td>...</td>\n",
       "    </tr>\n",
       "    <tr>\n",
       "      <th>327</th>\n",
       "      <td>3</td>\n",
       "      <td>48</td>\n",
       "      <td>19</td>\n",
       "      <td>1</td>\n",
       "    </tr>\n",
       "    <tr>\n",
       "      <th>328</th>\n",
       "      <td>24</td>\n",
       "      <td>10</td>\n",
       "      <td>19</td>\n",
       "      <td>3</td>\n",
       "    </tr>\n",
       "    <tr>\n",
       "      <th>329</th>\n",
       "      <td>8</td>\n",
       "      <td>21</td>\n",
       "      <td>41</td>\n",
       "      <td>16</td>\n",
       "    </tr>\n",
       "    <tr>\n",
       "      <th>330</th>\n",
       "      <td>32</td>\n",
       "      <td>6</td>\n",
       "      <td>35</td>\n",
       "      <td>47</td>\n",
       "    </tr>\n",
       "    <tr>\n",
       "      <th>331</th>\n",
       "      <td>46</td>\n",
       "      <td>7</td>\n",
       "      <td>4</td>\n",
       "      <td>15</td>\n",
       "    </tr>\n",
       "  </tbody>\n",
       "</table>\n",
       "<p>332 rows × 4 columns</p>\n",
       "</div>"
      ],
      "text/plain": [
       "       A    B   C   E\n",
       "0    654  774  46  42\n",
       "1     23   25  12  16\n",
       "2     39   42  29  49\n",
       "3     12   24   7  22\n",
       "4     42   49  31  36\n",
       "..   ...  ...  ..  ..\n",
       "327    3   48  19   1\n",
       "328   24   10  19   3\n",
       "329    8   21  41  16\n",
       "330   32    6  35  47\n",
       "331   46    7   4  15\n",
       "\n",
       "[332 rows x 4 columns]"
      ]
     },
     "execution_count": 123,
     "metadata": {},
     "output_type": "execute_result"
    }
   ],
   "source": [
    "sortdf.reset_index(drop=True)#drops the extra index "
   ]
  },
  {
   "cell_type": "markdown",
   "id": "bdd3e77b-2016-4a02-8b38-13b54426104b",
   "metadata": {},
   "source": [
    "### Null"
   ]
  },
  {
   "cell_type": "code",
   "execution_count": 124,
   "id": "b162ff0a-c161-4acb-af00-fd564ef19b24",
   "metadata": {},
   "outputs": [],
   "source": [
    "sortdf.loc[4]=None"
   ]
  },
  {
   "cell_type": "code",
   "execution_count": 125,
   "id": "80e4c0e1-c2b7-4004-b4e3-4831138c90cc",
   "metadata": {},
   "outputs": [
    {
     "data": {
      "text/html": [
       "<div>\n",
       "<style scoped>\n",
       "    .dataframe tbody tr th:only-of-type {\n",
       "        vertical-align: middle;\n",
       "    }\n",
       "\n",
       "    .dataframe tbody tr th {\n",
       "        vertical-align: top;\n",
       "    }\n",
       "\n",
       "    .dataframe thead th {\n",
       "        text-align: right;\n",
       "    }\n",
       "</style>\n",
       "<table border=\"1\" class=\"dataframe\">\n",
       "  <thead>\n",
       "    <tr style=\"text-align: right;\">\n",
       "      <th></th>\n",
       "      <th>A</th>\n",
       "      <th>B</th>\n",
       "      <th>C</th>\n",
       "      <th>E</th>\n",
       "    </tr>\n",
       "  </thead>\n",
       "  <tbody>\n",
       "    <tr>\n",
       "      <th>0</th>\n",
       "      <td>654.0</td>\n",
       "      <td>774.0</td>\n",
       "      <td>46.0</td>\n",
       "      <td>42.0</td>\n",
       "    </tr>\n",
       "    <tr>\n",
       "      <th>1</th>\n",
       "      <td>23.0</td>\n",
       "      <td>25.0</td>\n",
       "      <td>12.0</td>\n",
       "      <td>16.0</td>\n",
       "    </tr>\n",
       "    <tr>\n",
       "      <th>4</th>\n",
       "      <td>NaN</td>\n",
       "      <td>NaN</td>\n",
       "      <td>NaN</td>\n",
       "      <td>NaN</td>\n",
       "    </tr>\n",
       "    <tr>\n",
       "      <th>5</th>\n",
       "      <td>12.0</td>\n",
       "      <td>24.0</td>\n",
       "      <td>7.0</td>\n",
       "      <td>22.0</td>\n",
       "    </tr>\n",
       "    <tr>\n",
       "      <th>6</th>\n",
       "      <td>42.0</td>\n",
       "      <td>49.0</td>\n",
       "      <td>31.0</td>\n",
       "      <td>36.0</td>\n",
       "    </tr>\n",
       "    <tr>\n",
       "      <th>...</th>\n",
       "      <td>...</td>\n",
       "      <td>...</td>\n",
       "      <td>...</td>\n",
       "      <td>...</td>\n",
       "    </tr>\n",
       "    <tr>\n",
       "      <th>329</th>\n",
       "      <td>3.0</td>\n",
       "      <td>48.0</td>\n",
       "      <td>19.0</td>\n",
       "      <td>1.0</td>\n",
       "    </tr>\n",
       "    <tr>\n",
       "      <th>330</th>\n",
       "      <td>24.0</td>\n",
       "      <td>10.0</td>\n",
       "      <td>19.0</td>\n",
       "      <td>3.0</td>\n",
       "    </tr>\n",
       "    <tr>\n",
       "      <th>331</th>\n",
       "      <td>8.0</td>\n",
       "      <td>21.0</td>\n",
       "      <td>41.0</td>\n",
       "      <td>16.0</td>\n",
       "    </tr>\n",
       "    <tr>\n",
       "      <th>332</th>\n",
       "      <td>32.0</td>\n",
       "      <td>6.0</td>\n",
       "      <td>35.0</td>\n",
       "      <td>47.0</td>\n",
       "    </tr>\n",
       "    <tr>\n",
       "      <th>333</th>\n",
       "      <td>46.0</td>\n",
       "      <td>7.0</td>\n",
       "      <td>4.0</td>\n",
       "      <td>15.0</td>\n",
       "    </tr>\n",
       "  </tbody>\n",
       "</table>\n",
       "<p>332 rows × 4 columns</p>\n",
       "</div>"
      ],
      "text/plain": [
       "         A      B     C     E\n",
       "0    654.0  774.0  46.0  42.0\n",
       "1     23.0   25.0  12.0  16.0\n",
       "4      NaN    NaN   NaN   NaN\n",
       "5     12.0   24.0   7.0  22.0\n",
       "6     42.0   49.0  31.0  36.0\n",
       "..     ...    ...   ...   ...\n",
       "329    3.0   48.0  19.0   1.0\n",
       "330   24.0   10.0  19.0   3.0\n",
       "331    8.0   21.0  41.0  16.0\n",
       "332   32.0    6.0  35.0  47.0\n",
       "333   46.0    7.0   4.0  15.0\n",
       "\n",
       "[332 rows x 4 columns]"
      ]
     },
     "execution_count": 125,
     "metadata": {},
     "output_type": "execute_result"
    }
   ],
   "source": [
    "sortdf"
   ]
  },
  {
   "cell_type": "code",
   "execution_count": 126,
   "id": "37803487-8cc2-4a8a-923b-c8f0f5214603",
   "metadata": {},
   "outputs": [
    {
     "data": {
      "text/plain": [
       "A    True\n",
       "B    True\n",
       "C    True\n",
       "E    True\n",
       "Name: 4, dtype: bool"
      ]
     },
     "execution_count": 126,
     "metadata": {},
     "output_type": "execute_result"
    }
   ],
   "source": [
    "sortdf.loc[4].isnull() #check"
   ]
  },
  {
   "cell_type": "code",
   "execution_count": null,
   "id": "932d424a-d27a-412c-8dab-ccd405e18b30",
   "metadata": {},
   "outputs": [],
   "source": []
  }
 ],
 "metadata": {
  "kernelspec": {
   "display_name": "Python 3 (ipykernel)",
   "language": "python",
   "name": "python3"
  },
  "language_info": {
   "codemirror_mode": {
    "name": "ipython",
    "version": 3
   },
   "file_extension": ".py",
   "mimetype": "text/x-python",
   "name": "python",
   "nbconvert_exporter": "python",
   "pygments_lexer": "ipython3",
   "version": "3.13.1"
  }
 },
 "nbformat": 4,
 "nbformat_minor": 5
}
